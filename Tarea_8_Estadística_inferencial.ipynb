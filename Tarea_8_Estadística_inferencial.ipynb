{
  "nbformat": 4,
  "nbformat_minor": 0,
  "metadata": {
    "colab": {
      "provenance": [],
      "include_colab_link": true
    },
    "kernelspec": {
      "name": "python3",
      "display_name": "Python 3"
    },
    "language_info": {
      "name": "python"
    }
  },
  "cells": [
    {
      "cell_type": "markdown",
      "metadata": {
        "id": "view-in-github",
        "colab_type": "text"
      },
      "source": [
        "<a href=\"https://colab.research.google.com/github/cesarlimca/Diplomado-TE-y-MD/blob/main/Tarea_8_Estad%C3%ADstica_inferencial.ipynb\" target=\"_parent\"><img src=\"https://colab.research.google.com/assets/colab-badge.svg\" alt=\"Open In Colab\"/></a>"
      ]
    },
    {
      "cell_type": "markdown",
      "source": [
        "# Equipo 5:\n",
        "\n",
        "1. Estrada Barrón Teresa Jazmin\n",
        "2. González Herrera Cecilia Gabriela\n",
        "3. Hernández Nieto Brayan David\n",
        "4. Limones Carro César Adrián\n",
        "5. Rivera Loredo César"
      ],
      "metadata": {
        "id": "WJVfzoFWbYWZ"
      }
    },
    {
      "cell_type": "markdown",
      "source": [
        "# **EJERCICIOS**"
      ],
      "metadata": {
        "id": "7yVSktrQ41Rm"
      }
    },
    {
      "cell_type": "markdown",
      "source": [
        "## **1.- Investiga sobre el método de momentos y da dos ejemplos.**"
      ],
      "metadata": {
        "id": "B8ltwb_d4PF0"
      }
    },
    {
      "cell_type": "markdown",
      "source": [
        "El método de momentos es una técnica en estadística utilizada para estimar los parámetros de una distribución de probabilidad a partir de los momentos de una muestra de datos. Los momentos son medidas que capturan varias características de la distribución, como la media (primer momento), la varianza (segundo momento), la asimetría (tercer momento) y la curtosis (cuarto momento), siendo la ecuación generadora de momentos:\n",
        "\n",
        "$$ M_x(t) = E(e^{tx}) $$\n",
        "\n",
        "Que para el caso discreto es: $ M_x = \\sum_{x}e^{tx} f(x) $\n",
        "\n",
        "Y para el caso continuo: $ M_x = \\int_{-\\infty}^{\\infty} e^{tx} f(x) dx$\n",
        "\n",
        "Recordando que para obtener cada uno de los momentos habrá que derivar la ecuación \"generadora de momentos\".\n",
        "\n",
        " Este método se basa en igualar los momentos de la muestra (empíricos) con los momentos teóricos de la distribución y resolver las ecuaciones resultantes para obtener las estimaciones de los parámetros."
      ],
      "metadata": {
        "id": "kWWMyCgP4Ztn"
      }
    },
    {
      "cell_type": "markdown",
      "source": [
        "### **Ejemplo 1:** Estimación de la media y la varianza de una distribución normal"
      ],
      "metadata": {
        "id": "tEmhRguH4-U2"
      }
    },
    {
      "cell_type": "markdown",
      "source": [
        "\n",
        "Supongamos que tenemos una muestra de datos que creemos que sigue una distribución normal\n",
        "$𝑁\n",
        "(\n",
        "𝜇\n",
        ",\n",
        "^\n",
        "2\n",
        ")$\n",
        "N(μ,σ\n",
        "2\n",
        " ) y queremos estimar los parámetros\n",
        "𝜇\n",
        "μ (media) y\n",
        "𝜎\n",
        "2\n",
        "σ\n",
        "2\n",
        "  (varianza).\n",
        "\n",
        "Primer momento (Media):\n",
        "El primer momento teórico de una distribución normal es su media,\n",
        "𝜇\n",
        "μ. La media muestral (primer momento empírico) se calcula como:\n",
        "\n",
        "$$ \\bar{X}= \\frac{1}{n} \\sum_{i=1}^{n}X_i $$\n",
        "\n",
        "Donde\n",
        "$𝑋_i$​ son los datos de la muestra y\n",
        "𝑛\n",
        "n es el tamaño de la muestra.\n",
        "\n",
        "Segundo momento (Varianza):\n",
        "El segundo momento teórico alrededor de la media de una distribución normal es la varianza,\n",
        "𝜎\n",
        "Donde\n",
        "$𝑋_i$ son los datos de la muestra y\n",
        "𝑛\n",
        "n es el tamaño de la muestra.\n",
        "\n",
        "Segundo momento (Varianza):\n",
        "El segundo momento teórico alrededor de la media de una distribución normal es la varianza,\n",
        "$𝜎^2$\n",
        "La varianza muestral (segundo momento empírico) se calcula como:\n",
        "$σ^2$\n",
        "La varianza muestral (segundo momento empírico) se calcula como:\n",
        "\n",
        "$$ S^2 = \\frac{1}{n}\\sum_{i=1}^{n}X_i (X_i-\\bar{X})^2$$\n",
        "\n",
        "Al igualar estos momentos empíricos con los momentos teóricos, obtenemos las siguientes estimaciones para los parámetros:\n",
        " $$ 𝜇^=\\bar{X} $$\n",
        " $$𝜎^2=S^2$$"
      ],
      "metadata": {
        "id": "KD1h6eYaFM7A"
      }
    },
    {
      "cell_type": "markdown",
      "source": [
        "### **Ejemplo 2:** Estimación de los parámetros de una distribución exponencial"
      ],
      "metadata": {
        "id": "OWW3aKmL5Cc6"
      }
    },
    {
      "cell_type": "markdown",
      "source": [
        "Supongamos que tenemos una muestra de datos que creemos que sigue una distribución exponencial $Exp(λ)$ y queremos estimar el parámetro\n",
        "$λ$ (tasa de la distribución).\n",
        "\n",
        "Primer momento (Media):\n",
        "La media teórica de una distribución exponencial es $\\frac{1}{λ}\\$\n",
        "\n",
        "La media muestral (primer momento empírico) se calcula como:\n",
        " $$ \\bar{X}=\\frac{1}{n}\\sum_{i=1}^{n}X_i$$\n",
        "\n",
        "Donde\n",
        "$𝑋_i$​ son los datos de la muestra y 𝑛 n es el tamaño de la muestra.\n",
        "\n",
        "Al igualar este momento empírico con el momento teórico, obtenemos la siguiente estimación para el parámetro $𝜆$\n",
        "\n",
        "$$\\frac{1}{λ}=\\bar{X}\\Rightarrow λ = \\frac{1}{\\bar{X}}$$\n",
        "\n",
        "Estos ejemplos ilustran cómo se puede utilizar el método de momentos para estimar parámetros de diferentes distribuciones al igualar los momentos empíricos con los momentos teóricos correspondientes."
      ],
      "metadata": {
        "id": "vStws6s64lce"
      }
    },
    {
      "cell_type": "markdown",
      "source": [
        "## **2.- Calcula el MLE para la media $\\mu$ y varianza $\\sigma^2$ de una muestra normal.**"
      ],
      "metadata": {
        "id": "H-JhVqJo4EFc"
      }
    },
    {
      "cell_type": "markdown",
      "source": [
        "### **Desarrollo**"
      ],
      "metadata": {
        "id": "QtHHLGHCSSq1"
      }
    },
    {
      "cell_type": "markdown",
      "source": [
        "Se tiene para la distribución normal:\n",
        "\n",
        "$$ \\mathbb{P}(x|\\mu , \\sigma^2) = \\frac{1}{\\sqrt{2\\pi\\sigma^2}}e^{-\\frac{(x-\\mu)^2}{2\\sigma^2}} $$\n",
        "\n",
        "Para la ecuación de verosimilitud:\n",
        "\n",
        "$$ L(x_1, x_2, ... ,x_n ; \\Theta ) = \\mathbb{P}(X_1=x_1,X_2=x_2,...,X_n=x_n ; \\Theta) $$\n",
        "Donde $\\Theta$ son los parámetros de la función. Para este caso serán: $\\mu$ y $\\sigma^2$.\n",
        "\n",
        "Al ser $v.a.i.i.d$,, las distribuciones tienen las mismas $\\mu$ y $\\sigma^2$:\n",
        "\n",
        "\\begin{align*}\n",
        "\\Rightarrow   L(x_1, x_2, ... ,x_n ; \\mu,\\sigma^2 ) &= \\prod_{i=1}^{n} \\mathbb{P}(X_1 = X _i ; Θ) \\\\\n",
        " &= \\frac{1}{\\sqrt{2\\pi\\sigma^2}}e^{-\\frac{(x_1-\\mu)^2}{2\\sigma^2}} \\cdot  \\frac{1}{\\sqrt{2\\pi}\\sigma^2}e^{-\\frac{(x_2-\\mu)^2}{2\\sigma^2}} \\cdot ... \\cdot  \\frac{1}{\\sqrt{2\\pi}\\sigma^2}e^{-\\frac{(x_n-\\mu)^2}{2\\sigma^2}}\\\\\n",
        " &= \\frac{1}{(\\sqrt{2\\pi\\sigma^2})^n}(e^{-\\frac{(x_1-\\mu)^2}{2\\sigma^2}}\\cdot e^{-\\frac{(x_2-\\mu)^2}{2\\sigma^2}}\\cdot...\\cdot e^{-\\frac{(x_n-\\mu)^2}{2\\sigma^2}})\\\\\n",
        " &= \\frac{1}{((2\\pi\\sigma^2)^\\frac{1}{2})^n}(e^{-\\sum_{i=1}^{n} \\frac{(x_i-\\mu)^2}{2\\sigma^2}})\\\\\n",
        " \\Rightarrow   L(x_1, x_2, ... ,x_n ; \\mu,\\sigma^2 ) &= \\frac{1}{(2\\pi\\sigma^2)^\\frac{n}{2}}(e^{-\\frac{1}{2\\sigma^2}\\sum_{i=1}^{n} (x_i-\\mu)^2})\n",
        "\\end{align*}\n",
        "\n",
        "Para obtener el Máximo valor verosimil, tendremos que derivar e igualar a cero.\n",
        "Utilizando la **derivación logarítmica** y despejando, se puede decir que el punto donde donde una función llega a su máximo es en el mismo punto donde se encuentra el máximo de su logaritmo natural;\n",
        "\n",
        "Para la media:\n",
        "\n",
        "\\begin{align*}\n",
        "\\frac{\\partial(L(x_1, x_2, ... ,x_n ; \\mu,\\sigma^2 ))}{\\partial μ} = 0\\\\\n",
        "\\Rightarrow \\frac{\\partial(lnL(x_1, x_2, ... ,x_n ; \\mu,\\sigma^2 ))}{\\partial μ} = 0\n",
        "\\end{align*}\n",
        "\n",
        "Y la varianza:\n",
        "\n",
        "\\begin{align*}\n",
        "\\frac{\\partial(L(x_1, x_2, ... ,x_n ; \\mu,\\sigma^2 ))}{\\partial \\sigma^2} = 0\\\\\n",
        "\\Rightarrow \\frac{\\partial(lnL(x_1, x_2, ... ,x_n ; \\mu,\\sigma^2 ))}{\\partial \\sigma^2} = 0\n",
        "\\end{align*}\n",
        "\n",
        "En cualquier caso:\n",
        "\n",
        "\\begin{align*}\n",
        "ln(L(x_1, x_2, ... ,x_n ; \\mu,\\sigma^2 )) &= ln(\\frac{1}{(2\\pi\\sigma^2)^\\frac{n}{2}}(e^{-\\frac{1}{2\\sigma^2}\\sum_{i=1}^{n} (x_i-\\mu)^2})) \\\\\n",
        " &= ln(\\frac{1}{(2\\pi\\sigma^2)^\\frac{n}{2}}) + ln(e^{-\\frac{1}{2\\sigma^2}\\sum_{i=1}^{n} (x_i-\\mu)^2}) \\\\\n",
        " &= - ln((2\\pi\\sigma^2)^\\frac{n}{2}) -\\frac{1}{2\\sigma^2}\\sum_{i=1}^{n} (x_i-\\mu)^2 = - ln((2\\pi)^\\frac{n}{2}\\sigma^n) -\\frac{1}{2\\sigma^2}\\sum_{i=1}^{n} (x_i-\\mu)^2 = - ln(2\\pi)^\\frac{n}{2}-ln(\\sigma^n) -\\frac{1}{2\\sigma^2}\\sum_{i=1}^{n} (x_i-\\mu)^2 \\\\\n",
        " ln(L(x_1, x_2, ... ,x_n ; \\mu,\\sigma^2 )) &= - (\\frac{n}{2} ln(2\\pi\\sigma^2) + \\frac{1}{2\\sigma^2}\\sum_{i=1}^{n} (x_i-\\mu)^2) \\quad \\lor \\quad  ln(L(x_1, x_2, ... ,x_n ; \\mu,\\sigma^2 )) = - \\frac{n}{2}ln(2\\pi)-nln(\\sigma) -\\frac{1}{2\\sigma^2}\\sum_{i=1}^{n} (x_i-\\mu)^2\n",
        "\\end{align*}\n",
        "\n",
        "Por lo que:\n",
        "\n",
        "$$\\Rightarrow  ln(L(x_1, x_2, ... ,x_n ; \\mu,\\sigma^2 )) = - (\\frac{n}{2} ln(2\\pi\\sigma^2) + \\frac{1}{2\\sigma^2}\\sum_{i=1}^{n} (x_i-\\mu)^2) \\quad \\lor \\quad \\\\ ln(L(x_1, x_2, ... ,x_n ; \\mu,\\sigma^2 )) = - \\frac{n}{2}ln(2\\pi)-nln(\\sigma) -\\frac{1}{2\\sigma^2}\\sum_{i=1}^{n} (x_i-\\mu)^2 $$\n",
        "\n",
        "\n",
        "Cualquiera de las formas la podemos ocupar para hacer las derivadas parciales, sin embargo, la primer forma será la de mayor utilidad."
      ],
      "metadata": {
        "id": "-arXf3eC4DvU"
      }
    },
    {
      "cell_type": "markdown",
      "source": [
        "### **Para su media/esperanza($\\mu$):**"
      ],
      "metadata": {
        "id": "N3sFF_Fn5Mbg"
      }
    },
    {
      "cell_type": "markdown",
      "source": [
        "Para la media:\n",
        "\n",
        "\n",
        "\\begin{align*}\n",
        "\\frac{\\partial(lnL(x_1, x_2, ... ,x_n ; \\mu,\\sigma^2 ))}{\\partial μ} &= 0 \\\\\n",
        " \\Rightarrow \\frac{\\partial(- \\frac{n}{2}ln(2\\pi)-ln(\\sigma^n) -\\frac{1}{2\\sigma^2}\\sum_{i=1}^{n} (x_i-\\mu)^2)}{\\partial μ}  &= 0 \\\\\n",
        "  \\Rightarrow \\frac{\\partial(- \\frac{n}{2}ln(2\\pi))}{\\partial μ}  + \\frac{\\partial(-ln(\\sigma^n) )}{\\partial μ } + \\frac{\\partial(-\\frac{1}{2\\sigma^2}\\sum_{i=1}^{n}  (x_i-\\mu)^2))}{\\partial μ} &= 0 \\\\\n",
        "  \\Rightarrow \\frac{\\partial ( -\\frac{1}{2\\sigma^2}\\sum_{i=1}^{n} (x_i-\\mu)^2))}{\\partial μ} &= 0 \\\\\n",
        "    \\Rightarrow -\\frac{1}{2\\sigma^2}\\frac{\\partial ( \\sum_{i=1}^{n} (x_i-\\mu)^2))}{\\partial μ} &= 0 \\\\\n",
        "        \\Rightarrow-\\frac{1}{2\\sigma^2} ( \\sum_{i=1}^{n} (x_i-\\mu)^2)´ &= 0 \\\\\n",
        "         \\Rightarrow -\\frac{1}{2\\sigma^2} ( \\sum_{i=1}^{n} 2(x_i-\\mu)(x_i-\\mu)´) &= 0 \\\\\n",
        "         \\Rightarrow -\\frac{1}{2\\sigma^2} ( \\sum_{i=1}^{n} 2(x_i-\\mu)(-1)) &= 0 \\\\\n",
        "         \\Rightarrow +\\frac{1}{2\\sigma^2} ( \\sum_{i=1}^{n} 2(x_i-\\mu)) &= 0 \\\\\n",
        "         \\Rightarrow \\frac{2}{2\\sigma^2} ( \\sum_{i=1}^{n} (x_i-\\mu)) &= 0 \\\\\n",
        "         \\Rightarrow \\frac{1}{\\sigma^2} ( \\sum_{i=1}^{n} (x_i-\\mu)) &= 0 ----- (*)\\\\\n",
        "         \\Rightarrow  \\sum_{i=1}^{n} (x_i-\\mu) &= 0 \\\\\n",
        "         \\Rightarrow  \\sum_{i=1}^{n} x_i- \\sum_{i=1}^{n} \\mu &= 0\\\\\n",
        "         \\Rightarrow  \\sum_{i=1}^{n} x_i- {n} \\mu &= 0\\\\\n",
        "         \\Rightarrow  \\sum_{i=1}^{n} x_i &=  {n} \\mu\\\\\n",
        "         \\Rightarrow  \\frac{\\sum_{i=1}^{n} x_i}{n} &= \\mu\\\\\n",
        "         \\therefore \\boxed { \\hat\\mu = \\frac{\\sum_{i=1}^{n} x_i}{n} }\\\\\n",
        "\\end{align*}\n",
        "\n",
        "\n",
        "\n",
        "A la media estimada $ \\bar\\mu $, también se le conoce como promedio estimado. Podemos decir que:\n",
        "\n",
        "$$\\hat\\mu = \\bar x$$\n",
        "\n",
        "\n"
      ],
      "metadata": {
        "id": "cDdb1m8t5VW5"
      }
    },
    {
      "cell_type": "markdown",
      "source": [
        "### **Para su varianza ($\\sigma^2$):**"
      ],
      "metadata": {
        "id": "PyB_bWYy5VTf"
      }
    },
    {
      "cell_type": "markdown",
      "source": [
        "Y la varianza:\n",
        "\n",
        "\\begin{align*}\n",
        "\\frac{\\partial(lnL(x_1, x_2, ... ,x_n ; \\mu,\\sigma^2 ))}{\\partial \\sigma^2 } &= 0 \\\\\n",
        " \\Rightarrow\\frac{\\partial(- (\\frac{n}{2} ln(2\\pi\\sigma^2) + \\frac{1}{2\\sigma^2}\\sum_{i=1}^{n} (x_i-\\mu)^2)}{\\partial \\sigma^2}  &= 0 \\\\\n",
        "  \\Rightarrow\\frac{\\partial(- \\frac{n}{2} ln(2\\pi\\sigma^2) - \\frac{1}{2\\sigma^2}\\sum_{i=1}^{n} (x_i-\\mu)^2)}{\\partial \\sigma^2}  &= 0 \\\\\n",
        "   \\Rightarrow \\frac{\\partial(- \\frac{n}{2} ln(2\\pi\\sigma^2))}{\\partial \\sigma^2 }  + \\frac{\\partial(-\\frac{1}{2\\sigma^2}\\sum_{i=1}^{n} (x_i-\\mu)^2)}{\\partial \\sigma^2 } &= 0 \\\\\n",
        "  \\Rightarrow -\\frac{n}{2}\\frac{1}{2\\pi\\sigma^2}2\\pi - \\frac{\\partial(-\\frac{1}{\\sigma^2}\\cdot \\frac{1}{2} \\sum_{i=1}^{n} (x_i-\\mu)^2)}{\\partial \\sigma^2 }  &= 0  \\quad ;  \\quad haciendo \\quad  \\sigma ^2 = u\\\\\n",
        "  \\Rightarrow -\\frac{n}{2\\sigma^2} - \\frac{\\partial(-\\frac{1}{u} \\cdot \\frac{1}{2} \\sum_{i=1}^{n} (x_i-\\mu)^2)}{\\partial u }  &= 0\\\\\n",
        "  \\Rightarrow -\\frac{n}{2\\sigma^2} -   \\frac{1}{2}\\sum_{i=1}^{n} (x_i-\\mu)^2\n",
        "  (-\\frac{1}{u^2})  &= 0 \\quad;\\quad como\\quad u = \\sigma^2 \\\\\n",
        "    \\Rightarrow -\\frac{n}{2\\sigma^2} + \\frac{1}{2}\\sum_{i=1}^{n} (x_i-\\mu)^2\n",
        "  (\\frac{1}{\\sigma^4})  &= 0\\\\\n",
        "      \\Rightarrow -\\frac{n}{2\\sigma^2} + \\frac{1}{2} (\\frac{1}{\\sigma^4}) \\sum_{i=1}^{n} (x_i-\\mu)^2 &= 0\\\\\n",
        "            \\Rightarrow -\\frac{n}{2\\sigma^2} +  \\frac{1}{2\\sigma^4} \\sum_{i=1}^{n} (x_i-\\mu)^2 &= 0 ----- (**)\\\\\n",
        "      \\Rightarrow \\frac{1}{2\\sigma^4}(-n\\sigma^2+ \\sum_{i=1}^{n} (x_i-\\mu)^2) &= 0\\\\\n",
        "      \\Rightarrow -n\\sigma^2 + \\sum_{i=1}^{n} (x_i-\\mu)^2 &= 0\\\\\n",
        "      \\Rightarrow n\\sigma^2 &= \\sum_{i=1}^{n} (x_i-\\mu)^2 \\\\\n",
        "      \\Rightarrow  \\hat{\\sigma}^2 = \\frac{\\sum_{i=1}^{n} (x_i-\\mu)^2}{n} \\\\\n",
        "\\end{align*}\n",
        "\n",
        "Como $\\hat\\mu = \\bar x$:\n",
        "\n",
        "\\begin{equation*}\n",
        "  \\therefore \\boxed{ \\hat{\\sigma}^2 = \\frac{\\sum_{i=1}^{n} (x_i-\\bar x)^2}{n} }\n",
        "\\end{equation*}\n"
      ],
      "metadata": {
        "id": "0zFHLvZiGqwt"
      }
    },
    {
      "cell_type": "markdown",
      "source": [
        "### **Resultados**"
      ],
      "metadata": {
        "id": "lltyU_gFeb-B"
      }
    },
    {
      "cell_type": "markdown",
      "source": [
        "Las **estimaciones por máxima verosimilitud** de los parámetros de la Distribución Normal son:\n",
        "\n",
        "\\begin{align}\n",
        "  \\hat \\mu &= \\bar x  \\quad \\land \\quad \\hat{\\sigma}^2 = \\frac{\\sum_{i=1}^{n} (x_i-\\bar x)^2}{n}\n",
        "\\end{align}\n",
        "\n",
        "Podemos decir, que en general, para los **estimadores por máxima verosimulud**:\n",
        "\n",
        "\\begin{align}\n",
        "  \\hat \\mu &= \\bar X  \\quad \\land \\quad \\hat{\\sigma}^2 = \\frac{\\sum_{i=1}^{n} (x_i-\\bar X)^2}{n}\n",
        "\\end{align}"
      ],
      "metadata": {
        "id": "-F5mdLjjecAh"
      }
    },
    {
      "cell_type": "markdown",
      "source": [
        "## 3.-  Resuelve el ejemplo 8.17 de la sección 8.3.2"
      ],
      "metadata": {
        "id": "fOjzVCb1HjOK"
      }
    },
    {
      "cell_type": "markdown",
      "source": [
        "We would like to estimate the portion of people who plan to vote for Candidate A in an upcoming election. It is assumed that the number of voters is large, and $\\theta$ is the portion of voters who plan to vote for Candidate $A$. We define the random variable $X$ as follows. A voter is chosen uniformly at random among all voters and we ask her/him: \"Do you plan to vote for Candidate $A$\n",
        "?\" If she/he says \"yes,\" then $X=1$\n",
        ", otherwise $X=0$. Then, $$X\\sim Bernoulli(\\theta)$$\n",
        "\n",
        "Let $X_{1}, X_{2}, X_{3}, ..., X_{n}$ be a random sample from this distribution, which means that the $X_{i}$'s are  i.i.d. and $X_{i}\\sim Bernoulli(\\theta)$. In other words, we randomly select $n$ voters (with replacement) and we ask each of them if they plan to vote for Candidate $A$. Find a $(1−α) 100\\%$ confidence interval for $\\theta$ based on $X_{1}, X_{2}, X_{3}, ..., X_{n}$."
      ],
      "metadata": {
        "id": "uhsPIu7fyVSi"
      }
    },
    {
      "cell_type": "markdown",
      "source": [
        "#Solución"
      ],
      "metadata": {
        "id": "ugkQzZyW9dBT"
      }
    },
    {
      "cell_type": "markdown",
      "source": [
        "Recordemos que $$X_{i}\\sim Bernoulli(\\theta)$$ Entonces, cada $X_{i}$ se distribuye de la siguiente manera:\n",
        "\n",
        "$$f_{X_{i}}(x_{i})=\\theta^{x_{i}}(1-\\theta)^{1-x_{i}}$$\n",
        "\n",
        "para $x_{i}=1,0$.\n",
        "\n",
        "Además, $$E[X_{i}]=\\theta$$ y\n",
        "$$Var(X_{i})=\\theta(1-\\theta)$$\n",
        "\n",
        "---\n",
        "\n",
        "Lo que buscamos estimar es $$E[X_{i}]$$\n",
        "Entonces, para una $n$ suficeintemente grande, utilizamos el teorema del límite central, por lo que\n",
        "$$\\mathit{Z}= \\frac{\\bar{X}-\\theta }{\\frac{\\sigma }{\\sqrt{n}}}$$\n",
        "\n",
        "Esto implica que, $$\\mathit{Z} \\sim N(0,1)$$\n",
        "\n",
        "Una vez teniendo esto, sabemos que un intervalo $(1-\\alpha)$ para la distribución normal estándar se ve la siguiente manera:\n",
        "\n",
        "$$P\\left ( -z_{\\frac{\\alpha }{2}}\\leq Z\\leq z_{\\frac{\\alpha }{2}} \\right )= 1-\\alpha $$\n",
        "\n",
        "Por lo tanto,\n",
        "\n",
        "$$P\\left ( -z_{\\frac{\\alpha }{2}}\\leq \\frac{\\bar{X}-\\theta }{\\frac{\\sigma }{\\sqrt{n}}} \\leq z_{\\frac{\\alpha }{2}} \\right )= 1-\\alpha $$\n",
        "\n",
        "Despejamos $\\theta$,\n",
        "\n",
        "$$P\\left ( \\bar{X}-z_{\\frac{\\alpha }{2}}\\frac{\\sigma }{\\sqrt{n}}\\leq \\theta \\leq \\bar{X} + z_{\\frac{\\alpha }{2}}\\frac{\\sigma }{\\sqrt{n}} \\right )= 1-\\alpha $$\n",
        "\n",
        "Entonces,\n",
        "\n",
        "$$\\left [ \\bar{X}-z_{\\frac{\\alpha }{2}}\\frac{\\sigma_{max} }{\\sqrt{n}}, \\bar{X} + z_{\\frac{\\alpha }{2}}\\frac{\\sigma_{max} }{\\sqrt{n}}  \\right ]$$\n",
        "\n",
        "\n",
        "Pero al conocer a $Var(X_{i})=\\theta(1-\\theta)$, es fácil encontrar un límite superior para $\\sigma$.\n",
        "\n",
        "Definimos,\n",
        "\n",
        "$$f(\\theta)=\\theta(1-\\theta) \\ \\ \\ \\ \\ \\ \\forall \\ \\theta \\in \\left [ 0,1 \\right ]$$\n"
      ],
      "metadata": {
        "id": "AhD8LyqT6Zsy"
      }
    },
    {
      "cell_type": "markdown",
      "source": [
        "Vamos a encontrar el limite superior"
      ],
      "metadata": {
        "id": "SGTYk0hGCffX"
      }
    },
    {
      "cell_type": "code",
      "execution_count": null,
      "metadata": {
        "colab": {
          "base_uri": "https://localhost:8080/"
        },
        "id": "UiwGv852wv9M",
        "outputId": "92cd65b1-8c7d-4ae5-b8d4-c89881fd7997"
      },
      "outputs": [
        {
          "output_type": "stream",
          "name": "stdout",
          "text": [
            "El valor máximo de f(θ) es 0.25 en θ = 0.5\n"
          ]
        }
      ],
      "source": [
        "##Importamos librerías\n",
        "import numpy as np\n",
        "from scipy.optimize import minimize_scalar\n",
        "\n",
        "# Definir la función\n",
        "def f(theta):\n",
        "    return theta * (1 - theta)\n",
        "\n",
        "\n",
        "result = minimize_scalar(lambda theta: -f(theta), bounds=(0, 1), method='bounded')\n",
        "\n",
        "# El valor máximo será el negativo del valor encontrado\n",
        "max_value = -result.fun\n",
        "max_theta = result.x\n",
        "\n",
        "print(f'El valor máximo de f(θ) es {max_value} en θ = {max_theta}')\n"
      ]
    },
    {
      "cell_type": "markdown",
      "source": [
        "La función **minimize_scalar** es utilizada para encontrar el mínimo de una función escalar en un intervalo dado.\n",
        "\n",
        "Buscamos el mínimo de $-f(\\theta)$ ya que equivale a encontrar el máximo de $-f(\\theta)$.\n",
        "\n",
        "Por otro lado **method='bounded'** nos indica que el método de optimización utilizado debe ser acotado, por ello utilizamos **bounds=(0, 1)** que nos indica el intervalo donde estamos trabajando."
      ],
      "metadata": {
        "id": "uy-PHjh3DWu8"
      }
    },
    {
      "cell_type": "markdown",
      "source": [
        "Ya que sabemos que: $$\\sigma_{max}=\\frac{1}{2}$$\n",
        "\n",
        "Vamos a sustituir en,\n",
        "\n",
        "$$\\left [ \\bar{X}-z_{\\frac{\\alpha }{2}}\\frac{\\sigma_{max} }{\\sqrt{n}}, \\bar{X} + z_{\\frac{\\alpha }{2}}\\frac{\\sigma_{max} }{\\sqrt{n}}  \\right ]$$\n",
        "\n",
        "Por lo tanto,\n",
        "\n",
        "$$\\left [ \\bar{X}-\\frac{z_{\\frac{\\alpha }{2}}}{2\\sqrt{n}}, \\bar{X} + \\frac{z_{\\frac{\\alpha }{2}} }{2\\sqrt{n}}  \\right ]$$\n",
        "\n",
        "Es un intervalo de confianza $(1-\\alpha)100\\%$."
      ],
      "metadata": {
        "id": "QQN1nCG2E9i9"
      }
    },
    {
      "cell_type": "markdown",
      "source": [
        "## 4.-  Resuelve los problemas Problem 2-Problem 6"
      ],
      "metadata": {
        "id": "ddcTbmrLecC8"
      }
    },
    {
      "cell_type": "markdown",
      "source": [
        "### Problema 2."
      ],
      "metadata": {
        "id": "V-Kq4gN8l50p"
      }
    },
    {
      "cell_type": "markdown",
      "source": [
        "Se da una muestra aleatoria $X_1$, $X_2$, $X_3$, $...$, $X_{100}$ a partir de una distribución con varianza conocida $\\textrm{Var}(X_i)=16$. Para la muestra observada, la media muestral es $\\overline{X}=23.5$. Encuentre un intervalo de confianza aproximado de $95 \\%$ para $\\theta=EX_i$.\n"
      ],
      "metadata": {
        "id": "aBlh_TLac9g4"
      }
    },
    {
      "cell_type": "markdown",
      "source": [
        "**Solución:**"
      ],
      "metadata": {
        "id": "5jPr9LPgo02G"
      }
    },
    {
      "cell_type": "markdown",
      "source": [
        "Aquí,\n",
        "\n",
        "$\\left[\\overline{X}- z_{\\frac{\\alpha}{2}} \\frac{\\sigma}{\\sqrt{n}} , \\overline{X}+ z_{\\frac{\\alpha}{2}} \\frac{\\sigma}{\\sqrt{n}}\\right]$\n",
        "\n",
        "\n",
        "es un intervalo de confianza aproximado $(1-\\alpha)100\\%$.\n",
        "\n",
        "Dado que $\\alpha=0.05$, tenemos\n",
        "\n",
        "\\begin{align}\\label{} z_{\\frac{\\alpha}{2}}=z_{0.025}=\\Phi^{-1}(1-0.025)=1.96 \\end{align}\n",
        "\n",
        "Además, $\\sigma=4$. Por lo tanto, el intervalo de confianza aproximado es\n",
        "\n",
        "\\begin{align} \\left[23.5- 1.96 \\frac{4}{\\sqrt{100}} , 23.5- 1.96 \\frac{4}{\\sqrt{100}}\\right] \\approx [ 22.7 , 24.3 ]. \\end{align}"
      ],
      "metadata": {
        "id": "wwkZThDBfEXW"
      }
    },
    {
      "cell_type": "code",
      "source": [
        "import numpy as np\n",
        "from scipy.stats import norm\n",
        "\n",
        "# Datos\n",
        "n = 100\n",
        "sigma = 4  # desviación estándar poblacional\n",
        "media_muestral = 23.5\n",
        "\n",
        "# Nivel de confianza del 95%\n",
        "confianza = 0.95\n",
        "alpha = 1 - confianza\n",
        "\n",
        "# Cuantil de la distribución normal estándar\n",
        "z = norm.ppf(1 - alpha/2)\n",
        "\n",
        "# Intervalo de confianza aproximado para la media poblacional\n",
        "error_estandar = sigma / np.sqrt(n)\n",
        "intervalo = (media_muestral - z * error_estandar, media_muestral + z * error_estandar)\n",
        "\n",
        "print(f\"Intervalo de confianza del 95% para la media poblacional: ({intervalo[0]}, {intervalo[1]})\")\n"
      ],
      "metadata": {
        "colab": {
          "base_uri": "https://localhost:8080/"
        },
        "id": "86RpK46Jg98r",
        "outputId": "a0ec265c-8a10-4b20-f008-8a688d26ce96"
      },
      "execution_count": null,
      "outputs": [
        {
          "output_type": "stream",
          "name": "stdout",
          "text": [
            "Intervalo de confianza del 95% para la media poblacional: (22.71601440618398, 24.28398559381602)\n"
          ]
        }
      ]
    },
    {
      "cell_type": "markdown",
      "source": [
        "### Problema 3."
      ],
      "metadata": {
        "id": "0qfd-PTJl-mq"
      }
    },
    {
      "cell_type": "markdown",
      "source": [
        "Para estimar la proporción de votantes que planean votar por el candidato A en una elección, se elige una muestra aleatoria de tamaño $n$ de los votantes. La toma de muestras se realiza con reemplazo. Sea $\\theta$ la porción de votantes que planea votar por el Candidato A entre todos los votantes. ¿Qué tan grande debe ser $n$ para que podamos obtener un intervalo de confianza de $90 \\%$ con un margen de error de $3 \\%$? Es decir, qué tan grande debe ser $n$ tal que \\begin{align}\\label{} P\\left(\\overline{X}-0.03 \\leq \\theta \\leq \\overline{X}+ 0.03 \\right) \\geq 0.90, \\end{align} donde $\\overline{X}$ es la porción de personas en nuestra muestra aleatoria que dicen que planean votar por el Candidato A."
      ],
      "metadata": {
        "id": "8qnUuw3fhbYf"
      }
    },
    {
      "cell_type": "markdown",
      "source": [
        "**Solución:**"
      ],
      "metadata": {
        "id": "lpNs4wNxo720"
      }
    },
    {
      "cell_type": "markdown",
      "source": [
        "Aquí\n",
        "\n",
        "\\begin{align}\\label{} \\left[\\overline{X}- \\frac{z_{\\frac{\\alpha}{2}}}{2\\sqrt{n}} , \\overline{X}+ \\frac{z_{\\frac{\\alpha}{2}}}{2\\sqrt{n}}\\right] \\end{align}\n",
        "\n",
        "es un intervalo de confianza aproximado\n",
        "\n",
        "$(1-\\alpha)100\\%$ para $\\theta$. Dado que $\\alpha=0.1$,\n",
        "\n",
        "tenemos\n",
        "\n",
        "\\begin{align}\\label{} z_{\\frac{\\alpha}{2}}=z_{0.05}=\\Phi^{-1}(1-0.05)=1.645 \\end{align}\n",
        "\n",
        "Por lo tanto, necesitamos tener\n",
        "\n",
        "\\begin{align}\\label{} \\frac{1.645}{2\\sqrt{n}}=0.03 \\end{align}\n",
        "\n",
        "Por lo tanto, obtenemos \\begin{align}\\label{} n=\\left(\\frac{1.645}{2 \\times 0.03}\\right)^2. \\end{align}\n",
        "\n",
        "Concluimos $n \\geq 752$ es suficiente."
      ],
      "metadata": {
        "id": "EaTTX9zEhsDH"
      }
    },
    {
      "cell_type": "code",
      "source": [
        "import math\n",
        "\n",
        "confianza = 0.90\n",
        "alpha = 1 - confianza\n",
        "\n",
        "margen_error = 0.03\n",
        "\n",
        "# Valor crítico de la distribución normal estándar para un nivel de confianza del 90%\n",
        "z = abs(norm.ppf(alpha / 2))\n",
        "\n",
        "# Estimación de la proporción máxima variabilidad (0.5)\n",
        "theta = 0.5\n",
        "\n",
        "# Calcular el tamaño de muestra necesario\n",
        "n = math.ceil((z / margen_error)**2 * theta * (1 - theta))\n",
        "\n",
        "print(f\"Tamaño de muestra necesario: {n}\")\n"
      ],
      "metadata": {
        "colab": {
          "base_uri": "https://localhost:8080/"
        },
        "id": "4kBumSBXia_y",
        "outputId": "ef35bd78-ca02-4148-c516-80c315aa5f60"
      },
      "execution_count": null,
      "outputs": [
        {
          "output_type": "stream",
          "name": "stdout",
          "text": [
            "Tamaño de muestra necesario: 752\n"
          ]
        }
      ]
    },
    {
      "cell_type": "markdown",
      "source": [
        "### Problema 4."
      ],
      "metadata": {
        "id": "Sp6ZlB57mBFk"
      }
    },
    {
      "cell_type": "markdown",
      "source": [
        "a. Sea $X$ una variable aleatoria tal que $R_X \\subset [a,b]$, es decir, siempre tenemos $a \\leq X \\leq b$. Demuestra que \\begin{equation} \\textrm{Var}(X) \\leq \\frac{(b-a)^2}{4}. \\end{equation}\n",
        "\n",
        "b. Sea $X_1$, $X_2$, $X_3$, $...$, $X_n$ una muestra aleatoria de una distribución desconocida con CDF $F_X(x)$ tal que $R_X \\subset [a,b]$. En concreto, $EX$ y $EX$ and $\\textrm{Var}(X)$ son desconocidos. Encuentre un intervalo de confianza del 90% para  $\\theta=EX$.. Supongamos que $n$ es grande."
      ],
      "metadata": {
        "id": "xcT3w3uXizq-"
      }
    },
    {
      "cell_type": "markdown",
      "source": [
        "#### Solución 4.a"
      ],
      "metadata": {
        "id": "8JzIgv8GlPD1"
      }
    },
    {
      "cell_type": "markdown",
      "source": [
        "**Solución:**"
      ],
      "metadata": {
        "id": "3IwCXvEIo-vu"
      }
    },
    {
      "cell_type": "markdown",
      "source": [
        "Defina $Y=X-\\frac{a+b}{2}$. Por lo tanto, $R_Y \\subset [-\\frac{b-a}{2}, \\frac{b-a}{2}]$. Entonces \\begin{align} \\textrm{Var}(X) &=\\textrm{Var} (Y)\\\\ &=E[Y^2]-\\mu_Y^2\\\\ &\\leq E[Y^2]\\\\ &\\leq \\left(\\frac{b-a}{2}\\right)^2 \\quad \\left(\\textrm{since } Y^2 \\leq \\left(\\frac{b-a}{2}\\right)^2\\right)\\\\ &=\\frac{(b-a)^2}{4}. \\end{align}\n"
      ],
      "metadata": {
        "id": "lNkh-29TmVjd"
      }
    },
    {
      "cell_type": "markdown",
      "source": [
        "#### Solución 4.b\n"
      ],
      "metadata": {
        "id": "mG-Uk_aimVu6"
      }
    },
    {
      "cell_type": "markdown",
      "source": [
        "**Solución:**"
      ],
      "metadata": {
        "id": "Hk9WQT7-o_9G"
      }
    },
    {
      "cell_type": "markdown",
      "source": [
        "Aquí, tenemos un límite superior en $\\sigma$, que es $\\sigma_{max}=\\frac{(b-a)}{2}$.\n",
        "\n",
        "Por lo tanto, el intervalo\n",
        "\n",
        "\\begin{align}\\label{} \\left[\\overline{X}- z_{\\frac{\\alpha}{2}} \\frac{\\sigma_{max}}{\\sqrt{n}} , \\overline{X}+ z_{\\frac{\\alpha}{2}} \\frac{\\sigma_{max}}{\\sqrt{n}}\\right] \\end{align}\n",
        "\n",
        "es un intervalo de confianza $(1-\\alpha)100\\%\\$\n",
        "para\n",
        " $\\theta$.\n",
        "\n",
        "Más concretamente,\n",
        "\\begin{align}\\label{} \\left[\\overline{X}- z_{\\frac{\\alpha}{2}} \\frac{b-a}{2\\sqrt{n}} , \\overline{X}+ z_{\\frac{\\alpha}{2}} \\frac{b-a}{2\\sqrt{n}} \\right] \\end{align}\n",
        "\n",
        "es un intervalo de confianza $(1-\\alpha)100\\%$ para $\\theta$."
      ],
      "metadata": {
        "id": "77P6CksRof93"
      }
    },
    {
      "cell_type": "markdown",
      "source": [
        "### Problema 5."
      ],
      "metadata": {
        "id": "aSKhdRVJmX-l"
      }
    },
    {
      "cell_type": "markdown",
      "source": [
        "Se da una muestra aleatoria $X_1$, $X_2$, $X_3$, $...$, $X_{144}$ a partir de una distribución con varianza desconocida $\\textrm{Var}(X_i)=\\sigma^2$. Para la muestra observada, la media muestral es $\\overline{X}=55.2$ y la varianza muestral es $S^2=34.5$. Encuentre un intervalo de confianza $99 \\%$ para $\\theta=EX_i$."
      ],
      "metadata": {
        "id": "SC1ilGf0mu5q"
      }
    },
    {
      "cell_type": "markdown",
      "source": [
        "**Solución:**"
      ],
      "metadata": {
        "id": "bS6VGB6pqzk4"
      }
    },
    {
      "cell_type": "markdown",
      "source": [
        "El intervalo\n",
        "\\begin{equation} \\left[\\overline{X}- z_{\\frac{\\alpha}{2}}\\frac{S}{\\sqrt{n}} , \\overline{X}+ z_{\\frac{\\alpha}{2}} \\frac{S}{\\sqrt{n}}\\right] \\end{equation}\n",
        "\n",
        " es aproximadamente un intervalo de confianza\n",
        " $(1-\\alpha)100\\%$ para $\\theta$. Aquí, $n=144$, $\\alpha=0.01$, por lo que necesitamos\n",
        " \\begin{align}\\label{} z_{\\frac{\\alpha}{2}}=z_{0.005}=\\Phi^{-1}(1-0.005) \\approx 2.58 \\end{align} Por lo tanto, podemos obtener un intervalo de confianza de $99 \\%$ para $\\theta$ como \\begin{align}\\label{} \\left[\\overline{X}- z_{\\frac{\\alpha}{2}}\\frac{S}{\\sqrt{n}} , \\overline{X}+ z_{\\frac{\\alpha}{2}} \\frac{S}{\\sqrt{n}}\\right] &=\\left[55.2-2.58 \\cdot \\frac{\\sqrt{34.5}}{12}, 55.2+2.58 \\cdot \\frac{\\sqrt{34.5}}{12}\\right]\\\\ &\\approx[53.94, 56.46]. \\end{align} Por lo tanto, $[53.94, 56.46]$ es un intervalo de confianza aproximado de $99 \\%$ para $\\theta$."
      ],
      "metadata": {
        "id": "riRUz8hQnnpY"
      }
    },
    {
      "cell_type": "code",
      "source": [
        "import math\n",
        "\n",
        "# Datos proporcionados\n",
        "n = 144\n",
        "media_muestral = 55.2\n",
        "varianza_muestral = 34.5\n",
        "\n",
        "# Nivel de confianza del 99%\n",
        "confianza = 0.99\n",
        "alpha = 1 - confianza\n",
        "\n",
        "# Valor crítico de la distribución normal estándar para un nivel de confianza del 99%\n",
        "z = 2.576\n",
        "\n",
        "# Desviación estándar muestral\n",
        "desviacion_estandar_muestral = math.sqrt(varianza_muestral)\n",
        "\n",
        "# Error estándar de la media\n",
        "error_estandar = desviacion_estandar_muestral / math.sqrt(n)\n",
        "\n",
        "# Calculando el intervalo de confianza\n",
        "intervalo_inferior = media_muestral - z * error_estandar\n",
        "intervalo_superior = media_muestral + z * error_estandar\n",
        "\n",
        "print(f\"Intervalo de confianza del 99% para la media poblacional: ({intervalo_inferior}, {intervalo_superior})\")\n"
      ],
      "metadata": {
        "colab": {
          "base_uri": "https://localhost:8080/"
        },
        "id": "h_jk4OaRn_TO",
        "outputId": "7902a935-803e-4cef-d2d4-4749e48481a2"
      },
      "execution_count": null,
      "outputs": [
        {
          "output_type": "stream",
          "name": "stdout",
          "text": [
            "Intervalo de confianza del 99% para la media poblacional: (53.93911882664015, 56.46088117335986)\n"
          ]
        }
      ]
    },
    {
      "cell_type": "markdown",
      "source": [
        "### Problema 6."
      ],
      "metadata": {
        "id": "SPYB290Dm9cX"
      }
    },
    {
      "cell_type": "markdown",
      "source": [
        "Se da una muestra aleatoria $X_1$, $X_2$, $X_3$, $...$, $X_{16}$ a partir de una distribución normal con media desconocida $\\mu=EX_i$ y varianza desconocida $\\textrm{Var}(X_i)=\\sigma^2$. Para la muestra observada, la media muestral es $\\overline{X}=16.7$, y la varianza muestral es $S^2=7.5$.\n",
        "\n",
        "a. Encuentre un intervalo de confianza de $95 \\%$ para $\\mu$.\n",
        "\n",
        "b .Encuentre un intervalo de confianza de $95 \\%$ para $\\sigma^2$."
      ],
      "metadata": {
        "id": "tR1_HnRPnCag"
      }
    },
    {
      "cell_type": "markdown",
      "source": [
        "#### Solución 6.a"
      ],
      "metadata": {
        "id": "myiPDo3OrxbD"
      }
    },
    {
      "cell_type": "markdown",
      "source": [
        "**Solución:**"
      ],
      "metadata": {
        "id": "DkZk7nXkr_9w"
      }
    },
    {
      "cell_type": "markdown",
      "source": [
        "Aquí, el intervalo \\begin{align} \\left[\\overline{X}-t_{\\frac{\\alpha}{2},n-1}\\frac{S}{\\sqrt{n}} , \\overline{X}+ t_{\\frac{\\alpha}{2},n-1} \\frac{S}{\\sqrt{n}}\\right] \\end{align} es un intervalo de confianza $(1-\\alpha)100\\%$ para $\\mu$. Sea $n=16$, $\\alpha=0.05$, luego \\begin{align}\\label{} t_{0.025,15} \\approx 2.13 \\end{align} El valor anterior se puede obtener en MATLAB mediante el comando $\\mathtt{tinv(0.975,15)}$. Por lo tanto, podemos obtener un intervalo de confianza de $95 \\%$ para $\\mu$ como \\begin{align}\\label{} \\left[16.7- 2.13 \\frac{\\sqrt{7.5}}{4} , 16.7+ 2.13 \\frac{\\sqrt{7.5}}{4}\\right] \\approx [15.24 , 18.16]. \\end{align} Por lo tanto, $[15.24 , 18.16]$ es un intervalo de confianza de $95 \\%$ para $\\mu$."
      ],
      "metadata": {
        "id": "OgpR3rShr2ND"
      }
    },
    {
      "cell_type": "code",
      "source": [
        "import math\n",
        "from scipy.stats import t\n",
        "\n",
        "n = 16\n",
        "media_muestral = 16.7\n",
        "varianza_muestral = 7.5\n",
        "\n",
        "# Nivel de confianza del 95%\n",
        "confianza = 0.95\n",
        "alpha = 1 - confianza\n",
        "\n",
        "# Grados de libertad\n",
        "grados_libertad = n - 1\n",
        "\n",
        "# Valor crítico de la distribución t de Student para el nivel de confianza del 95% y los grados de libertad\n",
        "t_critico = t.ppf(1 - alpha/2, df=grados_libertad)\n",
        "\n",
        "# Error estándar de la media muestral\n",
        "error_estandar = math.sqrt(varianza_muestral / n)\n",
        "\n",
        "# Calculando el intervalo de confianza\n",
        "intervalo_inferior = media_muestral - t_critico * error_estandar\n",
        "intervalo_superior = media_muestral + t_critico * error_estandar\n",
        "\n",
        "print(f\"Intervalo de confianza del 95% para la media poblacional: ({intervalo_inferior}, {intervalo_superior})\")\n"
      ],
      "metadata": {
        "colab": {
          "base_uri": "https://localhost:8080/"
        },
        "id": "de8frG7JuYRG",
        "outputId": "9b7f5d1b-ecb6-44b2-8009-773765958925"
      },
      "execution_count": null,
      "outputs": [
        {
          "output_type": "stream",
          "name": "stdout",
          "text": [
            "Intervalo de confianza del 95% para la media poblacional: (15.240696254641279, 18.15930374535872)\n"
          ]
        }
      ]
    },
    {
      "cell_type": "markdown",
      "source": [
        "#### Solución 6.b"
      ],
      "metadata": {
        "id": "hSP7dur0r3hD"
      }
    },
    {
      "cell_type": "markdown",
      "source": [
        "**Solución:**"
      ],
      "metadata": {
        "id": "dAynI_F0sBV_"
      }
    },
    {
      "cell_type": "markdown",
      "source": [
        "Aquí, $\\left[\\frac{(n-1)S^2}{\\chi^2_{\\frac{\\alpha}{2},n-1}} , \\frac{(n-1)S^2}{\\chi^2_{1-\\frac{\\alpha}{2},n-1}} \\right]$ es un intervalo de confianza $(1-\\alpha)100\\%$ para $\\sigma^2$. En este problema, $n=16$, $\\alpha=.05$, por lo que necesitamos \\begin{align}\\label{} \\chi^2_{0.025,15} \\approx 27.49, \\quad \\chi^2_{0.975,15} \\approx 6.26 \\end{align} Los valores anteriores se pueden obtener en MATLAB utilizando los comandos $\\mathtt{chi2inv(0.975,15)}$ y $\\mathtt{chi2inv(0.025,15)}$, respectivamente. Por lo tanto, podemos obtener un intervalo de confianza de $95 \\%$ para $\\sigma^2$ como \\begin{align}\\label{} \\left[\\frac{(n-1)S^2}{\\chi^2_{\\frac{\\alpha}{2},n-1}} , \\frac{(n-1)S^2}{\\chi^2_{1-\\frac{\\alpha}{2},n-1}} \\right] &=\\left[\\frac{15 \\times 7.5}{27.49} , \\frac{15 \\times 7.5}{6.26} \\right]\\\\ &\\approx [4.09 , 17.97]. \\end{align} Por lo tanto, $[4.09 , 17.97]$ es un intervalo de confianza de $95 \\%$ para $\\sigma^2$"
      ],
      "metadata": {
        "id": "MR0ffMH6tU5b"
      }
    },
    {
      "cell_type": "code",
      "source": [
        "from scipy.stats import chi2\n",
        "\n",
        "n = 16\n",
        "varianza_muestral = 7.5\n",
        "\n",
        "# Nivel de confianza del 95%\n",
        "confianza = 0.95\n",
        "alpha = 1 - confianza\n",
        "\n",
        "# Grados de libertad\n",
        "grados_libertad = n - 1\n",
        "\n",
        "# Cuantiles de la distribución chi-cuadrado\n",
        "chi2_inf = chi2.ppf(alpha / 2, df=grados_libertad)\n",
        "chi2_sup = chi2.ppf(1 - alpha / 2, df=grados_libertad)\n",
        "\n",
        "# Intervalo de confianza para la varianza poblacional\n",
        "intervalo_inferior = (grados_libertad * varianza_muestral) / chi2_sup\n",
        "intervalo_superior = (grados_libertad * varianza_muestral) / chi2_inf\n",
        "\n",
        "print(f\"Intervalo de confianza del 95% para la varianza poblacional: ({intervalo_inferior}, {intervalo_superior})\")\n"
      ],
      "metadata": {
        "colab": {
          "base_uri": "https://localhost:8080/"
        },
        "id": "Oziu3mD5u0Sf",
        "outputId": "15b2beb6-2de3-430f-a770-39b0bf4972f0"
      },
      "execution_count": null,
      "outputs": [
        {
          "output_type": "stream",
          "name": "stdout",
          "text": [
            "Intervalo de confianza del 95% para la varianza poblacional: (4.092636501481853, 17.965110906541934)\n"
          ]
        }
      ]
    }
  ]
}