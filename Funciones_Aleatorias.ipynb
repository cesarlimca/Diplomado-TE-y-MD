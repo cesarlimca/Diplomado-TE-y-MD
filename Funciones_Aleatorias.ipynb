{
  "nbformat": 4,
  "nbformat_minor": 0,
  "metadata": {
    "colab": {
      "provenance": [],
      "authorship_tag": "ABX9TyNef70qNP9/e2/ccUhcyHOn"
    },
    "kernelspec": {
      "name": "python3",
      "display_name": "Python 3"
    },
    "language_info": {
      "name": "python"
    }
  },
  "cells": [
    {
      "cell_type": "markdown",
      "source": [
        "## Equipo 5:\n",
        "\n",
        "*   Estrada Barrón Teresa Jazmin\n",
        "*   González Herrera Cecilia Gabriela\n",
        "*   Hernández Nieto Brayan David\n",
        "*   Limones Carro César Adrián\n",
        "*   Rivera Loredo César"
      ],
      "metadata": {
        "id": "z28CHmaC-Fws"
      }
    },
    {
      "cell_type": "markdown",
      "source": [
        "# Variables aleatorias\n",
        "\n",
        "\\begin{array}{|c|c|} \\hline\n",
        "Variable\\,Aleatoria & Función\\,de\\,densidad & Función\\,Generadora\\,de\\,Momentos& Función\\,Característica&Primer\\,Momento&Segundo\\,Momento \\\\ \\hline\n",
        "Uniforme\\,Discreta &  f_{X}(k)=\\mathbb{P}(X=k)=\\begin{cases}\n",
        "\\frac{1}{n} &\\quad \\text{si } k\\in\\{x_{1},\\dots,x_{n}\\} \\\\\n",
        "0 &\\quad \\text{en otro caso}\n",
        "\\end{cases} & M_X(t) = \\sum_{k=1}^{n} e^{tk} \\cdot \\Pr(X=k)& \\varphi_X(t) = \\frac{e^{itb} - e^{ita}}{it(b-a)} & \\mathbb{E}[X] = \\sum_{k}kf_{X}(k)=\\frac{x_n + x_1}{2}.& \\text{Var}(X) = \\mathbb{E}[(X-\\mathbb{E}[X])^{2}] =\\sum_{k}(k-\\mathbb{E}[X])^{2}f_{X}(k)=\\frac{(x_n - x_1+1)^2-1}{12}\\\\\n",
        "Bernoulli& f_{X}(k)=\\begin{cases}\n",
        "p &\\quad \\text{si } k=1 \\\\\n",
        "1-p &\\quad \\text{si } k=0\n",
        "\\end{cases} & M_X(t) = (1-p) + pe^t  &  \\varphi_X(t) = (1-p) + pe^{it} & \\mathbb{E}[X] = \\sum_{k=0}^{1}kf_{X}(k) = 1\\cdot p + 0\\cdot (1-p) = p. & \\text{Var}(X)=\\mathbb{E}[X^{2}]-(\\mathbb{E}[X])^{2} = p-p^{2} = p(1-p)\\\\\n",
        "Exponencial & f_{X}(x)=\\begin{cases}\n",
        "\\lambda e^{-\\lambda x} & x>0\\\\\n",
        "0 & \\text{en otro caso}\n",
        "\\end{cases} & M_X(t) = \\frac{\\lambda}{\\lambda - t}, \\quad \\text{para } t < \\lambda& \\varphi_X(t) = \\frac{\\lambda}{\\lambda - it}, \\quad \\text{para } t \\in \\mathbb{R}  & \\mathbb{E}[X]= \\int_{0}^{\\infty}xf_{x}(x)dx = \\int_{0}^{\\infty}x\\frac{1}{\\lambda}e^{-\\frac{x}{\\lambda}}dx = \\lambda &     \\text{Var}(X) = \\mathbb{E}[X^{2}]-(\\mathbb{E}[X])^{2} = \\int_{0}^{\\infty}x^{2}f_{x}(x)dx-\\lambda^{2} = \\int_{0}^{\\infty}x^{2}\\frac{1}{\\lambda}e^{-\\frac{x}{\\lambda}}dx - \\lambda^{2} = \\lambda^{2}\\\\\n",
        "Binomial &\\begin{equation*}\n",
        "\tf_{X}(k)=\\begin{cases}\n",
        "\t\\binom{n}{k}p^{k}(1-p)^{n-k} &\\quad \\text{si } k=0,1,\\dots,n \\\\\n",
        "\t\\qquad 0 &\\quad \\text{en otro caso}  \n",
        "\t\\end{cases}\n",
        "\\end{equation*}& M_X(t) = \\left( (1-p) + pe^t \\right)^n  & \\varphi_X(t) = \\left( (1-p) + pe^{it} \\right)^n & \\mathbb{E}[X]= np & \\text{Var}(X)=np(1-p)\\\\\n",
        "Poisson & f_{X}(k)=\\begin{cases}\n",
        "\te^{-\\lambda}\\frac{\\lambda^{k}}{k!} &\\quad \\text{si } k=0,1,2,\\dots \\\\\n",
        "\t0 &\\quad \\text{en otro caso}  \n",
        "\\end{cases}& M_X(t) = \\exp\\left( \\lambda (e^t - 1) \\right) & \\varphi_X(t) = \\exp\\left( \\lambda (e^{it} - 1) \\right)  & \\mathbb{E}[X] = \\lambda& \\mathbb{E}[X^2] = \\lambda + \\lambda^2\\\\\n",
        "Normal & f_{X}(x)=\\begin{cases}\n",
        "\t\\frac{1}{\\sqrt{2\\pi\\sigma^{2}}}e^{-\\frac{(x-\\mu)^{2}}{2\\sigma^{2}}} &\\quad \\text{si }  x \\in\\mathbb{R} \\\\\n",
        "\t\\qquad 0 &\\quad \\text{e.o.c}  \n",
        "\\end{cases} & M_X(t) = \\exp\\left( \\mu t + \\frac{\\sigma^2 t^2}{2} \\right)& \\varphi_X(t) = \\exp\\left( i\\mu t - \\frac{\\sigma^2 t^2}{2} \\right)  & \\mathbb{E}[X] = \\mu & \\mathbb{E}[X^2] = \\mu^2 + \\sigma^2 \\\\\n",
        "Geométrica &f_{X}(k)=\\begin{cases}\n",
        "\tp(1-p)^{k-1} &\\quad \\text{si } k=1,2,\\dots \\\\\n",
        "\t\\qquad 0 &\\quad \\text{en otro caso}  \n",
        "\\end{cases} & M_X(t) = \\frac{p e^t}{1 - (1 - p)e^t}, \\quad t < -\\ln(1 - p) & \\varphi_X(t) = \\frac{p e^{it}}{1 - (1 - p)e^{it}}, \\quad \\text{para } t \\in \\mathbb{R} & \\mathbb{E}[X]= \\frac{1}{p}& \\text{Var}(X)=\\frac{2}{p^2}-\\frac{1}{p}-\\frac{1}{p^2}=\\frac{1-p}{p^2}\\\\\n",
        "Binomial\\,Negativa & f_{X}(k)=\\begin{cases}\n",
        "\t\\binom{n-1}{r-1}p^{r}(1-p)^{n-r} &\\quad \\text{si } n=r,r+1,\\dots \\\\\n",
        "\t\\qquad 0 &\\quad \\text{en otro caso}  \n",
        "\\end{cases} & M_X(t) = \\left( \\frac{pe^t}{1 - (1-p)e^t} \\right)^r, \\quad t < -\\ln(1 - p)  & \\varphi_X(t) = \\left( \\frac{pe^{it}}{1 - (1-p)e^{it}} \\right)^r, \\quad \\text{para } t \\in \\mathbb{R}  & \\mathbb{E}[X]=\\frac{r}{p} & \\text{Var}[X]=\\frac{r(1-p)}{p^2}\\\\\n",
        "Hipergeométrica & f_{X}(k)=\n",
        "\t\\frac{\\binom{m}{i}\\binom{N-m}{n-i}}{\\binom{N}{n}} \\quad \\text{si } i=0,1,\\dots, n   &  M_X(t) = \\left( \\frac{1 - \\frac{K}{N}}{1 - e^t \\left( 1 - \\frac{K}{N} \\right)} \\right)^n & \\varphi_X(t) = \\left( \\frac{1 - \\frac{K}{N}}{1 - e^{it} \\left( 1 - \\frac{K}{N} \\right)} \\right)^n  & \\mathbb{E}[X]=\\frac{nm}{N}& \\text{Var}[X]=\\frac{nm}{N}\\left[\\frac{(n-1)(m-1)}{N-1}+1-\\frac{nm}{N} \\right] \\\\\n",
        " Gamma& \\Gamma(\\alpha)=\\int_{0}^{\\infty}t^{\\alpha-1}e^{-t}dt. & M_X(t) = \\left( \\frac{\\beta}{\\beta - t} \\right)^{\\alpha}, \\quad t < \\beta& \\varphi_X(t) = \\left( \\frac{\\beta}{\\beta - it} \\right)^{\\alpha}, \\quad \\text{para } t \\in \\mathbb{R} & \\mathbb{E}(X) = \\frac{\\alpha}{\\lambda} &\\text{Var}(X) = \\frac{\\alpha}{\\lambda^2}\\\\\n",
        " Beta & B(\\alpha, \\beta) = \\int_0^1 t^{\\alpha-1}(1-t)^{\\beta-1} dt = \\frac{\\Gamma(\\alpha) \\Gamma(\\beta)}{\\Gamma(\\alpha + \\beta)}& M_X(t) = \\sum_{k=0}^{\\infty} \\frac{B(\\alpha + k, \\beta)}{k!} \\frac{t^k}{\\beta^k}, \\quad |t| < \\beta& \\varphi_X(t) = \\int_0^1 e^{itx} \\frac{x^{\\alpha - 1} (1 - x)^{\\beta - 1}}{B(\\alpha, \\beta)} \\, dx, \\quad t \\in \\mathbb{R} & \\mathbb{E}[X] = \\frac{\\alpha}{\\alpha + \\beta} & \\text{Var}(X) = \\frac{\\alpha \\beta}{(\\alpha + \\beta)^2 (\\alpha + \\beta + 1)} \\\\\n",
        "\\hline\n",
        "\\end{array}\n",
        "\n",
        "\n",
        "\n"
      ],
      "metadata": {
        "id": "UgpnWsMNn0zL"
      }
    },
    {
      "cell_type": "markdown",
      "source": [],
      "metadata": {
        "id": "bIwc2YQfn4ps"
      }
    }
  ]
}