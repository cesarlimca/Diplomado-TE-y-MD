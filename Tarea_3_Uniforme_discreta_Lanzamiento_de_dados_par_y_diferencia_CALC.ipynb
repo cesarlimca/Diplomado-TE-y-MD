{
  "nbformat": 4,
  "nbformat_minor": 0,
  "metadata": {
    "colab": {
      "provenance": [],
      "authorship_tag": "ABX9TyPQvmJPNo+Q8btqa7K4hU51",
      "include_colab_link": true
    },
    "kernelspec": {
      "name": "python3",
      "display_name": "Python 3"
    },
    "language_info": {
      "name": "python"
    }
  },
  "cells": [
    {
      "cell_type": "markdown",
      "metadata": {
        "id": "view-in-github",
        "colab_type": "text"
      },
      "source": [
        "<a href=\"https://colab.research.google.com/github/cesarlimca/Diplomado-TE-y-MD/blob/main/Tarea_3_Uniforme_discreta_Lanzamiento_de_dados_par_y_diferencia_CALC.ipynb\" target=\"_parent\"><img src=\"https://colab.research.google.com/assets/colab-badge.svg\" alt=\"Open In Colab\"/></a>"
      ]
    },
    {
      "cell_type": "markdown",
      "source": [
        "## **DICCIONARIOS**"
      ],
      "metadata": {
        "id": "mEbJJVU495rL"
      }
    },
    {
      "cell_type": "code",
      "source": [
        "d = {\"mascotas\" : [\"Roy\",\"Rex\",\"Sombrita\"],\n",
        "     \"colores\":[\"rojo\",\"amarillo\",\"negro\"],\n",
        "     \"tamano\":[150,130,60]}"
      ],
      "metadata": {
        "id": "pT13I5ya9-ej"
      },
      "execution_count": null,
      "outputs": []
    },
    {
      "cell_type": "code",
      "source": [
        "type(d)"
      ],
      "metadata": {
        "colab": {
          "base_uri": "https://localhost:8080/"
        },
        "id": "vLf6QbTm-4A5",
        "outputId": "55cfdfa9-3738-4a6c-edb8-b5c8a0c74cf2"
      },
      "execution_count": null,
      "outputs": [
        {
          "output_type": "execute_result",
          "data": {
            "text/plain": [
              "dict"
            ]
          },
          "metadata": {},
          "execution_count": 3
        }
      ]
    },
    {
      "cell_type": "code",
      "source": [
        "d.keys()"
      ],
      "metadata": {
        "colab": {
          "base_uri": "https://localhost:8080/"
        },
        "id": "EumcRODu-5Zl",
        "outputId": "981d9668-ed70-42a5-d84a-ce052ac10749"
      },
      "execution_count": null,
      "outputs": [
        {
          "output_type": "execute_result",
          "data": {
            "text/plain": [
              "dict_keys(['mascotas', 'colores', 'tamano'])"
            ]
          },
          "metadata": {},
          "execution_count": 4
        }
      ]
    },
    {
      "cell_type": "code",
      "source": [
        "d.values()"
      ],
      "metadata": {
        "colab": {
          "base_uri": "https://localhost:8080/"
        },
        "id": "HTyka6UD-7Um",
        "outputId": "705da787-9172-46c8-9278-fe034a62b817"
      },
      "execution_count": null,
      "outputs": [
        {
          "output_type": "execute_result",
          "data": {
            "text/plain": [
              "dict_values([['Roy', 'Rex', 'Sombrita'], ['rojo', 'amarillo', 'negro'], [150, 130, 60]])"
            ]
          },
          "metadata": {},
          "execution_count": 5
        }
      ]
    },
    {
      "cell_type": "code",
      "source": [
        "d.items()"
      ],
      "metadata": {
        "colab": {
          "base_uri": "https://localhost:8080/"
        },
        "id": "8a-OEcGc-83U",
        "outputId": "8c261140-0936-44aa-eb61-57aed1e8bbfd"
      },
      "execution_count": null,
      "outputs": [
        {
          "output_type": "execute_result",
          "data": {
            "text/plain": [
              "dict_items([('mascotas', ['Roy', 'Rex', 'Sombrita']), ('colores', ['rojo', 'amarillo', 'negro']), ('tamano', [150, 130, 60])])"
            ]
          },
          "metadata": {},
          "execution_count": 6
        }
      ]
    },
    {
      "cell_type": "markdown",
      "source": [
        "## Se lanzan dos dados:\n",
        "\n",
        "- $\\Omega = \\{1,2,3,4,5,6\\} \\times \\{1,2,3,4,5,6\\}$\n",
        "- $\\mathcal{F} = p({\\Omega})  $\n",
        "- Para $ \\omega = (i,j)$ donde $i, j=1, \\dots , 6$\n",
        "$$\\mathbb{P}(\\{ \\omega \\}) = \\frac{1}{36}$$  \n",
        "\n",
        "## Definamos la siguiente variable aleatoria\n",
        "$S$ es la variable aleatoria que cuenta la suma de las caras de los dados.\n",
        "\n",
        "$$ S:\\Omega \\to R_{S} = \\{2,3,4,5,6,7,8,9,10,11,12\\} $$"
      ],
      "metadata": {
        "id": "cvIwqt87A_mc"
      }
    },
    {
      "cell_type": "markdown",
      "source": [
        "Para entender a la ley de la variable aleatoria, basta con entender a los siguientes datos:\n",
        "\n",
        "$$\\{(k, \\mathbb{P}(S = k)\\}_{k \\in R_S}$$\n",
        "\n",
        "Esto quiere decir que toda varibae aleatoria, la podemos representar de la anterior forma.\n",
        "- k correrá donde tomarán los valores del Rango\n",
        "- Función de masa"
      ],
      "metadata": {
        "id": "zR15pWpHC5Fh"
      }
    },
    {
      "cell_type": "markdown",
      "source": [
        "Veamos a $S$ como eventos. Sea $S_{n}$ el evento \"la suma de las caras\" es $n$."
      ],
      "metadata": {
        "id": "I1-mOB0LDtt4"
      }
    },
    {
      "cell_type": "code",
      "source": [
        "from itertools import product\n",
        "from fractions import Fraction"
      ],
      "metadata": {
        "id": "HllnsL48_IUS"
      },
      "execution_count": null,
      "outputs": []
    },
    {
      "cell_type": "code",
      "source": [
        "def P(A, Omega):\n",
        "  P = Fraction(len(A), len(Omega))\n",
        "  return P"
      ],
      "metadata": {
        "id": "yfhMH372EN0V"
      },
      "execution_count": null,
      "outputs": []
    },
    {
      "cell_type": "markdown",
      "source": [
        "### Representando a los eventos como conjuntos\n",
        "\n",
        "$$S_{n} = \\{(i,j) \\in \\Omega : i + j = n \\}$$"
      ],
      "metadata": {
        "id": "NFEJ2rN2EjP_"
      }
    },
    {
      "cell_type": "code",
      "source": [
        "S_2 = {(i,j) for i in range(1,7) for j in range(1,7) if i+j == 2 }\n",
        "S_2"
      ],
      "metadata": {
        "colab": {
          "base_uri": "https://localhost:8080/"
        },
        "id": "bcQY92SmEeUF",
        "outputId": "e97fb204-3fa4-4eae-c175-74326c1396ec"
      },
      "execution_count": null,
      "outputs": [
        {
          "output_type": "execute_result",
          "data": {
            "text/plain": [
              "{(1, 1)}"
            ]
          },
          "metadata": {},
          "execution_count": 9
        }
      ]
    },
    {
      "cell_type": "code",
      "source": [
        "type(S_2)"
      ],
      "metadata": {
        "colab": {
          "base_uri": "https://localhost:8080/"
        },
        "id": "JALx2KTCFcsc",
        "outputId": "6e97b403-c97c-449d-eaf1-6fa9878f3c1d"
      },
      "execution_count": null,
      "outputs": [
        {
          "output_type": "execute_result",
          "data": {
            "text/plain": [
              "set"
            ]
          },
          "metadata": {},
          "execution_count": 10
        }
      ]
    },
    {
      "cell_type": "code",
      "source": [
        "L = [i for i in range(1,7)]\n",
        "L"
      ],
      "metadata": {
        "colab": {
          "base_uri": "https://localhost:8080/"
        },
        "id": "aTgW0RqhF5vT",
        "outputId": "6b08e6ae-1a78-4a73-ab7b-a4e7bcd98938"
      },
      "execution_count": null,
      "outputs": [
        {
          "output_type": "execute_result",
          "data": {
            "text/plain": [
              "[1, 2, 3, 4, 5, 6]"
            ]
          },
          "metadata": {},
          "execution_count": 11
        }
      ]
    },
    {
      "cell_type": "code",
      "source": [
        "Omega = set(product(L, repeat=2))\n",
        "Omega"
      ],
      "metadata": {
        "colab": {
          "base_uri": "https://localhost:8080/"
        },
        "id": "KSyd8SikFuLr",
        "outputId": "12682376-9567-429f-bd87-3a487116e27e"
      },
      "execution_count": null,
      "outputs": [
        {
          "output_type": "execute_result",
          "data": {
            "text/plain": [
              "{(1, 1),\n",
              " (1, 2),\n",
              " (1, 3),\n",
              " (1, 4),\n",
              " (1, 5),\n",
              " (1, 6),\n",
              " (2, 1),\n",
              " (2, 2),\n",
              " (2, 3),\n",
              " (2, 4),\n",
              " (2, 5),\n",
              " (2, 6),\n",
              " (3, 1),\n",
              " (3, 2),\n",
              " (3, 3),\n",
              " (3, 4),\n",
              " (3, 5),\n",
              " (3, 6),\n",
              " (4, 1),\n",
              " (4, 2),\n",
              " (4, 3),\n",
              " (4, 4),\n",
              " (4, 5),\n",
              " (4, 6),\n",
              " (5, 1),\n",
              " (5, 2),\n",
              " (5, 3),\n",
              " (5, 4),\n",
              " (5, 5),\n",
              " (5, 6),\n",
              " (6, 1),\n",
              " (6, 2),\n",
              " (6, 3),\n",
              " (6, 4),\n",
              " (6, 5),\n",
              " (6, 6)}"
            ]
          },
          "metadata": {},
          "execution_count": 12
        }
      ]
    },
    {
      "cell_type": "code",
      "source": [
        "S = {(i,j) : i+j for i,j in Omega }\n",
        "S"
      ],
      "metadata": {
        "colab": {
          "base_uri": "https://localhost:8080/"
        },
        "id": "oMBGxA42FlLU",
        "outputId": "781bdd32-9c10-4033-aa54-cfdfc8ac8330"
      },
      "execution_count": null,
      "outputs": [
        {
          "output_type": "execute_result",
          "data": {
            "text/plain": [
              "{(3, 4): 7,\n",
              " (4, 3): 7,\n",
              " (3, 1): 4,\n",
              " (5, 4): 9,\n",
              " (4, 6): 10,\n",
              " (5, 1): 6,\n",
              " (2, 2): 4,\n",
              " (1, 6): 7,\n",
              " (2, 5): 7,\n",
              " (1, 3): 4,\n",
              " (6, 2): 8,\n",
              " (6, 5): 11,\n",
              " (4, 2): 6,\n",
              " (4, 5): 9,\n",
              " (3, 3): 6,\n",
              " (5, 6): 11,\n",
              " (3, 6): 9,\n",
              " (5, 3): 8,\n",
              " (2, 4): 6,\n",
              " (1, 2): 3,\n",
              " (2, 1): 3,\n",
              " (1, 5): 6,\n",
              " (6, 1): 7,\n",
              " (6, 4): 10,\n",
              " (3, 2): 5,\n",
              " (4, 1): 5,\n",
              " (3, 5): 8,\n",
              " (5, 2): 7,\n",
              " (4, 4): 8,\n",
              " (5, 5): 10,\n",
              " (1, 1): 2,\n",
              " (1, 4): 5,\n",
              " (2, 3): 5,\n",
              " (2, 6): 8,\n",
              " (6, 6): 12,\n",
              " (6, 3): 9}"
            ]
          },
          "metadata": {},
          "execution_count": 13
        }
      ]
    },
    {
      "cell_type": "code",
      "source": [
        "from collections import defaultdict"
      ],
      "metadata": {
        "id": "wGC2mMM7GkWV"
      },
      "execution_count": null,
      "outputs": []
    },
    {
      "cell_type": "code",
      "source": [
        "dS = defaultdict(set)\n",
        "dS"
      ],
      "metadata": {
        "colab": {
          "base_uri": "https://localhost:8080/"
        },
        "id": "glcSh6IMHD9U",
        "outputId": "047c168e-2007-425a-8811-2fa746709014"
      },
      "execution_count": null,
      "outputs": [
        {
          "output_type": "execute_result",
          "data": {
            "text/plain": [
              "defaultdict(set, {})"
            ]
          },
          "metadata": {},
          "execution_count": 15
        }
      ]
    },
    {
      "cell_type": "code",
      "source": [
        "type(dS)"
      ],
      "metadata": {
        "colab": {
          "base_uri": "https://localhost:8080/"
        },
        "id": "WWSnbHHuJQqP",
        "outputId": "be6fbdbe-fc2e-4601-cfa0-2b2df73d39a0"
      },
      "execution_count": null,
      "outputs": [
        {
          "output_type": "execute_result",
          "data": {
            "text/plain": [
              "collections.defaultdict"
            ]
          },
          "metadata": {},
          "execution_count": 16
        }
      ]
    },
    {
      "cell_type": "code",
      "source": [
        "for l,v in S.items():\n",
        "  dS[v].add(l)"
      ],
      "metadata": {
        "id": "RLlT80M9Ho0j"
      },
      "execution_count": null,
      "outputs": []
    },
    {
      "cell_type": "code",
      "source": [
        "dS"
      ],
      "metadata": {
        "colab": {
          "base_uri": "https://localhost:8080/"
        },
        "id": "_tb_KOJoITMn",
        "outputId": "6e9e362a-d6d8-4650-b64e-568501b21750"
      },
      "execution_count": null,
      "outputs": [
        {
          "output_type": "execute_result",
          "data": {
            "text/plain": [
              "defaultdict(set,\n",
              "            {7: {(1, 6), (2, 5), (3, 4), (4, 3), (5, 2), (6, 1)},\n",
              "             4: {(1, 3), (2, 2), (3, 1)},\n",
              "             9: {(3, 6), (4, 5), (5, 4), (6, 3)},\n",
              "             10: {(4, 6), (5, 5), (6, 4)},\n",
              "             6: {(1, 5), (2, 4), (3, 3), (4, 2), (5, 1)},\n",
              "             8: {(2, 6), (3, 5), (4, 4), (5, 3), (6, 2)},\n",
              "             11: {(5, 6), (6, 5)},\n",
              "             3: {(1, 2), (2, 1)},\n",
              "             5: {(1, 4), (2, 3), (3, 2), (4, 1)},\n",
              "             2: {(1, 1)},\n",
              "             12: {(6, 6)}})"
            ]
          },
          "metadata": {},
          "execution_count": 18
        }
      ]
    },
    {
      "cell_type": "code",
      "source": [
        "leyS = {k : P(A,Omega) for k,A in dS.items()}\n",
        "leyS"
      ],
      "metadata": {
        "colab": {
          "base_uri": "https://localhost:8080/"
        },
        "id": "kOBEK2GfI_y9",
        "outputId": "f7b1a089-7068-4563-8faf-212f25c31cf6"
      },
      "execution_count": null,
      "outputs": [
        {
          "output_type": "execute_result",
          "data": {
            "text/plain": [
              "{7: Fraction(1, 6),\n",
              " 4: Fraction(1, 12),\n",
              " 9: Fraction(1, 9),\n",
              " 10: Fraction(1, 12),\n",
              " 6: Fraction(5, 36),\n",
              " 8: Fraction(5, 36),\n",
              " 11: Fraction(1, 18),\n",
              " 3: Fraction(1, 18),\n",
              " 5: Fraction(1, 9),\n",
              " 2: Fraction(1, 36),\n",
              " 12: Fraction(1, 36)}"
            ]
          },
          "metadata": {},
          "execution_count": 19
        }
      ]
    },
    {
      "cell_type": "code",
      "source": [],
      "metadata": {
        "id": "jptzu1lEJsRd"
      },
      "execution_count": null,
      "outputs": []
    },
    {
      "cell_type": "markdown",
      "source": [
        "### **INTRODUCCIÓN A PANDAS**"
      ],
      "metadata": {
        "id": "47P3HRMEJ8as"
      }
    },
    {
      "cell_type": "code",
      "source": [
        "import pandas as pd"
      ],
      "metadata": {
        "id": "h1smc0hVKEaA"
      },
      "execution_count": null,
      "outputs": []
    },
    {
      "cell_type": "code",
      "source": [
        "ley_S = pd.Series(leyS)\n",
        "ley_S"
      ],
      "metadata": {
        "colab": {
          "base_uri": "https://localhost:8080/"
        },
        "id": "SKwd0P0kKIwX",
        "outputId": "2f3ecb4f-e26c-40f0-b015-e2eec2a13ac0"
      },
      "execution_count": null,
      "outputs": [
        {
          "output_type": "execute_result",
          "data": {
            "text/plain": [
              "7      1/6\n",
              "4     1/12\n",
              "9      1/9\n",
              "10    1/12\n",
              "6     5/36\n",
              "8     5/36\n",
              "11    1/18\n",
              "3     1/18\n",
              "5      1/9\n",
              "2     1/36\n",
              "12    1/36\n",
              "dtype: object"
            ]
          },
          "metadata": {},
          "execution_count": 21
        }
      ]
    },
    {
      "cell_type": "code",
      "source": [
        "ley_S.index"
      ],
      "metadata": {
        "colab": {
          "base_uri": "https://localhost:8080/"
        },
        "id": "J2z-v9VpKsgC",
        "outputId": "a74c6fae-d23a-46a9-fa86-865ca3bfef5b"
      },
      "execution_count": null,
      "outputs": [
        {
          "output_type": "execute_result",
          "data": {
            "text/plain": [
              "Index([7, 4, 9, 10, 6, 8, 11, 3, 5, 2, 12], dtype='int64')"
            ]
          },
          "metadata": {},
          "execution_count": 22
        }
      ]
    },
    {
      "cell_type": "code",
      "source": [
        "ley_S.sort_index()"
      ],
      "metadata": {
        "colab": {
          "base_uri": "https://localhost:8080/"
        },
        "id": "amWxUdHrKxbp",
        "outputId": "bd51c3a2-86d5-455e-80f3-c69e38ef3f90"
      },
      "execution_count": null,
      "outputs": [
        {
          "output_type": "execute_result",
          "data": {
            "text/plain": [
              "2     1/36\n",
              "3     1/18\n",
              "4     1/12\n",
              "5      1/9\n",
              "6     5/36\n",
              "7      1/6\n",
              "8     5/36\n",
              "9      1/9\n",
              "10    1/12\n",
              "11    1/18\n",
              "12    1/36\n",
              "dtype: object"
            ]
          },
          "metadata": {},
          "execution_count": 23
        }
      ]
    },
    {
      "cell_type": "markdown",
      "source": [
        "# **Ejercicios:**\n",
        "1.- Documenta tu colab.\n",
        "\n",
        "2.- Calcula la ley de las siguientes variables aleatorias:\n",
        "\n",
        "- La diferencia de las caras sea mayor que $1$.\n",
        "\n",
        "- La suma de las caras sea par.\n",
        "\n",
        "3.- Verifica, en cada caso, que $$\\sum_{k\\in R_{X}}\\mathbb{P}(X=x)=1.$$\n",
        "\n",
        "4.- Sube tu notebook a tu GitHub."
      ],
      "metadata": {
        "id": "vXXZvpVCsq--"
      }
    },
    {
      "cell_type": "code",
      "source": [],
      "metadata": {
        "id": "8atI1Nv5yOLr"
      },
      "execution_count": null,
      "outputs": []
    },
    {
      "cell_type": "markdown",
      "source": [
        "#### Importando librerías, definiendo a **Ω** y definiendo la Probabilidad como operaciones de conjuntos."
      ],
      "metadata": {
        "id": "LhI4guPoyN_h"
      }
    },
    {
      "cell_type": "code",
      "source": [
        "from itertools import product\n",
        "from fractions import Fraction\n",
        "from collections import defaultdict\n",
        "import pandas as pd"
      ],
      "metadata": {
        "id": "puCKGKlnyTDI"
      },
      "execution_count": null,
      "outputs": []
    },
    {
      "cell_type": "code",
      "source": [
        "L = [i for i in range(1,7)]\n",
        "L"
      ],
      "metadata": {
        "id": "aBYN0cEOK3HX",
        "colab": {
          "base_uri": "https://localhost:8080/"
        },
        "outputId": "ced432af-dd32-4e7a-bc55-4de45fd77f6d"
      },
      "execution_count": null,
      "outputs": [
        {
          "output_type": "execute_result",
          "data": {
            "text/plain": [
              "[1, 2, 3, 4, 5, 6]"
            ]
          },
          "metadata": {},
          "execution_count": 59
        }
      ]
    },
    {
      "cell_type": "code",
      "source": [
        "Omega = set(product(L, repeat=2))\n",
        "Omega"
      ],
      "metadata": {
        "colab": {
          "base_uri": "https://localhost:8080/"
        },
        "id": "8HkdF13Lyz_O",
        "outputId": "da3bfd86-3b4f-4cab-a755-1ae99a5758bb"
      },
      "execution_count": null,
      "outputs": [
        {
          "output_type": "execute_result",
          "data": {
            "text/plain": [
              "{(1, 1),\n",
              " (1, 2),\n",
              " (1, 3),\n",
              " (1, 4),\n",
              " (1, 5),\n",
              " (1, 6),\n",
              " (2, 1),\n",
              " (2, 2),\n",
              " (2, 3),\n",
              " (2, 4),\n",
              " (2, 5),\n",
              " (2, 6),\n",
              " (3, 1),\n",
              " (3, 2),\n",
              " (3, 3),\n",
              " (3, 4),\n",
              " (3, 5),\n",
              " (3, 6),\n",
              " (4, 1),\n",
              " (4, 2),\n",
              " (4, 3),\n",
              " (4, 4),\n",
              " (4, 5),\n",
              " (4, 6),\n",
              " (5, 1),\n",
              " (5, 2),\n",
              " (5, 3),\n",
              " (5, 4),\n",
              " (5, 5),\n",
              " (5, 6),\n",
              " (6, 1),\n",
              " (6, 2),\n",
              " (6, 3),\n",
              " (6, 4),\n",
              " (6, 5),\n",
              " (6, 6)}"
            ]
          },
          "metadata": {},
          "execution_count": 60
        }
      ]
    },
    {
      "cell_type": "markdown",
      "source": [
        "La función para obtener la probabilidad:"
      ],
      "metadata": {
        "id": "cuNTBd4IyCoL"
      }
    },
    {
      "cell_type": "code",
      "source": [
        "def P(A, Omega):\n",
        "  P = Fraction(len(A), len(Omega))\n",
        "  return P"
      ],
      "metadata": {
        "id": "zQaWqvhayH22"
      },
      "execution_count": null,
      "outputs": []
    },
    {
      "cell_type": "markdown",
      "source": [
        "### **Ejercicio 1** - Probabilidad de que la diferencia de las caras sea mayor que $1$."
      ],
      "metadata": {
        "id": "hf9i22gk7Ipo"
      }
    },
    {
      "cell_type": "markdown",
      "source": [
        "#### Creando el primer diccionario para obtener su probabilidad:\n",
        "- La diferencia de las caras sea mayor que $1$."
      ],
      "metadata": {
        "id": "rVpP3RXzzAdS"
      }
    },
    {
      "cell_type": "code",
      "source": [
        "# El siguiente diccionario nos dará cada par con su respectiva diferencia.\n",
        "E1 = {(i,j) : abs(i-j) for i,j in Omega }\n",
        "E1"
      ],
      "metadata": {
        "colab": {
          "base_uri": "https://localhost:8080/"
        },
        "collapsed": true,
        "id": "SvThKv2Jy_Nc",
        "outputId": "d8fee9ed-1468-4f0f-ee83-d6b705b2d302"
      },
      "execution_count": null,
      "outputs": [
        {
          "output_type": "execute_result",
          "data": {
            "text/plain": [
              "{(3, 4): 1,\n",
              " (4, 3): 1,\n",
              " (3, 1): 2,\n",
              " (5, 4): 1,\n",
              " (4, 6): 2,\n",
              " (5, 1): 4,\n",
              " (2, 2): 0,\n",
              " (1, 6): 5,\n",
              " (2, 5): 3,\n",
              " (1, 3): 2,\n",
              " (6, 2): 4,\n",
              " (6, 5): 1,\n",
              " (4, 2): 2,\n",
              " (4, 5): 1,\n",
              " (3, 3): 0,\n",
              " (5, 6): 1,\n",
              " (3, 6): 3,\n",
              " (5, 3): 2,\n",
              " (2, 4): 2,\n",
              " (1, 2): 1,\n",
              " (2, 1): 1,\n",
              " (1, 5): 4,\n",
              " (6, 1): 5,\n",
              " (6, 4): 2,\n",
              " (3, 2): 1,\n",
              " (4, 1): 3,\n",
              " (3, 5): 2,\n",
              " (5, 2): 3,\n",
              " (4, 4): 0,\n",
              " (5, 5): 0,\n",
              " (1, 1): 0,\n",
              " (1, 4): 3,\n",
              " (2, 3): 1,\n",
              " (2, 6): 4,\n",
              " (6, 6): 0,\n",
              " (6, 3): 3}"
            ]
          },
          "metadata": {},
          "execution_count": 62
        }
      ]
    },
    {
      "cell_type": "code",
      "source": [
        "# El siguiente diccionario nos dará cada par con su respectiva diferencia, pero ya estará filtrado con la condición de la diferencia mayor a 1.\n",
        "E_1 = {(i,j) : abs(i-j) for i,j in Omega if abs(i-j)>1}\n",
        "E_1"
      ],
      "metadata": {
        "colab": {
          "base_uri": "https://localhost:8080/"
        },
        "collapsed": true,
        "id": "kKlZOFeRzcZT",
        "outputId": "219d3bb6-93f5-46f6-bc21-699df28a429a"
      },
      "execution_count": null,
      "outputs": [
        {
          "output_type": "execute_result",
          "data": {
            "text/plain": [
              "{(3, 1): 2,\n",
              " (4, 6): 2,\n",
              " (5, 1): 4,\n",
              " (1, 6): 5,\n",
              " (2, 5): 3,\n",
              " (1, 3): 2,\n",
              " (6, 2): 4,\n",
              " (4, 2): 2,\n",
              " (3, 6): 3,\n",
              " (5, 3): 2,\n",
              " (2, 4): 2,\n",
              " (1, 5): 4,\n",
              " (6, 1): 5,\n",
              " (6, 4): 2,\n",
              " (4, 1): 3,\n",
              " (3, 5): 2,\n",
              " (5, 2): 3,\n",
              " (1, 4): 3,\n",
              " (2, 6): 4,\n",
              " (6, 3): 3}"
            ]
          },
          "metadata": {},
          "execution_count": 63
        }
      ]
    },
    {
      "cell_type": "markdown",
      "source": [
        "#### Acomodando datos:"
      ],
      "metadata": {
        "id": "loQdhw3d1aLx"
      }
    },
    {
      "cell_type": "code",
      "source": [
        "# Creando un nuevo conjunto manipulable\n",
        "dE_1 = defaultdict(set)\n",
        "dE_1"
      ],
      "metadata": {
        "colab": {
          "base_uri": "https://localhost:8080/"
        },
        "id": "Uxr84duw0wrd",
        "outputId": "42e911da-3915-459e-cd57-2f3ff07ec876"
      },
      "execution_count": null,
      "outputs": [
        {
          "output_type": "execute_result",
          "data": {
            "text/plain": [
              "defaultdict(set, {})"
            ]
          },
          "metadata": {},
          "execution_count": 64
        }
      ]
    },
    {
      "cell_type": "code",
      "source": [
        "# Invirtiendo diccionarios y juntando\n",
        "for l, v in E_1.items():\n",
        "  dE_1[v].add(l)\n",
        "\n",
        "dE_1"
      ],
      "metadata": {
        "colab": {
          "base_uri": "https://localhost:8080/"
        },
        "id": "aAs0dpAN1YP3",
        "outputId": "b448b2c8-eb03-4047-d5ac-f2925818a13a"
      },
      "execution_count": null,
      "outputs": [
        {
          "output_type": "execute_result",
          "data": {
            "text/plain": [
              "defaultdict(set,\n",
              "            {2: {(1, 3),\n",
              "              (2, 4),\n",
              "              (3, 1),\n",
              "              (3, 5),\n",
              "              (4, 2),\n",
              "              (4, 6),\n",
              "              (5, 3),\n",
              "              (6, 4)},\n",
              "             4: {(1, 5), (2, 6), (5, 1), (6, 2)},\n",
              "             5: {(1, 6), (6, 1)},\n",
              "             3: {(1, 4), (2, 5), (3, 6), (4, 1), (5, 2), (6, 3)}})"
            ]
          },
          "metadata": {},
          "execution_count": 65
        }
      ]
    },
    {
      "cell_type": "markdown",
      "source": [
        "#### Obteniendo su Ley de Probabilidad"
      ],
      "metadata": {
        "id": "Bt3MH9ri2XRb"
      }
    },
    {
      "cell_type": "code",
      "source": [
        "leyE_1 = {k : P(A,Omega) for k , A in dE_1.items() }\n",
        "leyE_1"
      ],
      "metadata": {
        "colab": {
          "base_uri": "https://localhost:8080/"
        },
        "id": "Td5iKL8j2IPF",
        "outputId": "d614194a-8181-49bb-ef4e-8681055f6b18"
      },
      "execution_count": null,
      "outputs": [
        {
          "output_type": "execute_result",
          "data": {
            "text/plain": [
              "{2: Fraction(2, 9), 4: Fraction(1, 9), 5: Fraction(1, 18), 3: Fraction(1, 6)}"
            ]
          },
          "metadata": {},
          "execution_count": 66
        }
      ]
    },
    {
      "cell_type": "markdown",
      "source": [
        "#### Convirtiendo a Pandas"
      ],
      "metadata": {
        "id": "-1LCYFm725N9"
      }
    },
    {
      "cell_type": "code",
      "source": [
        "leyE_1S = pd.Series(leyE_1)\n",
        "leyE_1S = leyE_1S.sort_index()\n",
        "leyE_1S"
      ],
      "metadata": {
        "colab": {
          "base_uri": "https://localhost:8080/"
        },
        "id": "hG7mIel_2kdU",
        "outputId": "d7c894ba-89f2-4fa4-9a7a-2bee994fd0f5"
      },
      "execution_count": null,
      "outputs": [
        {
          "output_type": "execute_result",
          "data": {
            "text/plain": [
              "2     2/9\n",
              "3     1/6\n",
              "4     1/9\n",
              "5    1/18\n",
              "dtype: object"
            ]
          },
          "metadata": {},
          "execution_count": 67
        }
      ]
    },
    {
      "cell_type": "markdown",
      "source": [
        "Obtuvimos la probabilidad de de que la suma sea 2, 3, 4 y 5.\n",
        "Para poder obtener la probabilidad de la suma mayor que 1, sumemos las probabilidad; pues tenemos eventos mutuamente excluyentes.\n",
        "\n",
        "---\n",
        "~~~\n",
        "Dos eventos A y B son mutuamente excluyentes si no pueden ocurrir al mismo tiempo, es decir, si no tienen elementos comunes.\n",
        "~~~\n",
        "---"
      ],
      "metadata": {
        "id": "w_qfwDWz5fvF"
      }
    },
    {
      "cell_type": "code",
      "source": [
        "P1 = sum(leyE_1S)\n",
        "P1"
      ],
      "metadata": {
        "colab": {
          "base_uri": "https://localhost:8080/"
        },
        "id": "v4WtnXQd3Rp5",
        "outputId": "13840f5b-2157-4ff0-8c61-9f67447a5d2c"
      },
      "execution_count": null,
      "outputs": [
        {
          "output_type": "execute_result",
          "data": {
            "text/plain": [
              "Fraction(5, 9)"
            ]
          },
          "metadata": {},
          "execution_count": 68
        }
      ]
    },
    {
      "cell_type": "markdown",
      "source": [
        "Por lo que la probabilidad de obtener un número cuya suma sea mayor a 1 será:\n",
        "$$ \\mathbb{P} (X=x | x>1) = \\frac{5}{9}  \\approx{.555} $$"
      ],
      "metadata": {
        "id": "EvkWySEM7bAv"
      }
    },
    {
      "cell_type": "markdown",
      "source": [
        "#### Comprobando:\n",
        "\n",
        "$$\\sum_{k\\in R_{X}}\\mathbb{P}(X=x)=1.$$\n",
        "\n",
        "Podemos hacer 2 procedimientos:\n",
        "1. Obtenemos el complemento y lo sumamos al resultado obtenido.\n",
        "2. Obtenemos la suma sin restricciones."
      ],
      "metadata": {
        "id": "KYvFsrDFBxIT"
      }
    },
    {
      "cell_type": "markdown",
      "source": [
        "##### Forma 1: Sumando el complemento"
      ],
      "metadata": {
        "id": "hlnIrOPtCODZ"
      }
    },
    {
      "cell_type": "code",
      "source": [
        "E_1_C = {(i,j) : abs(i-j) for i,j in Omega if abs(i-j)<=1}\n",
        "E_1_C"
      ],
      "metadata": {
        "colab": {
          "base_uri": "https://localhost:8080/"
        },
        "id": "ZcFHw6Rg3fer",
        "outputId": "e47a8928-e782-4e57-b528-f3573d4f9a66"
      },
      "execution_count": null,
      "outputs": [
        {
          "output_type": "execute_result",
          "data": {
            "text/plain": [
              "{(3, 4): 1,\n",
              " (4, 3): 1,\n",
              " (5, 4): 1,\n",
              " (2, 2): 0,\n",
              " (6, 5): 1,\n",
              " (4, 5): 1,\n",
              " (3, 3): 0,\n",
              " (5, 6): 1,\n",
              " (1, 2): 1,\n",
              " (2, 1): 1,\n",
              " (3, 2): 1,\n",
              " (4, 4): 0,\n",
              " (5, 5): 0,\n",
              " (1, 1): 0,\n",
              " (2, 3): 1,\n",
              " (6, 6): 0}"
            ]
          },
          "metadata": {},
          "execution_count": 69
        }
      ]
    },
    {
      "cell_type": "code",
      "source": [
        "# Creando un nuevo conjunto manipulable\n",
        "dE_1_C = defaultdict(set)\n",
        "# Invirtiendo diccionarios y juntando\n",
        "for l, v in E_1_C.items():\n",
        "  dE_1_C[v].add(l)\n",
        "dE_1_C"
      ],
      "metadata": {
        "colab": {
          "base_uri": "https://localhost:8080/"
        },
        "id": "xjoR0i1SDQ7B",
        "outputId": "60f4bbcf-6a54-4061-b8c7-f4110c233c0f"
      },
      "execution_count": null,
      "outputs": [
        {
          "output_type": "execute_result",
          "data": {
            "text/plain": [
              "defaultdict(set,\n",
              "            {1: {(1, 2),\n",
              "              (2, 1),\n",
              "              (2, 3),\n",
              "              (3, 2),\n",
              "              (3, 4),\n",
              "              (4, 3),\n",
              "              (4, 5),\n",
              "              (5, 4),\n",
              "              (5, 6),\n",
              "              (6, 5)},\n",
              "             0: {(1, 1), (2, 2), (3, 3), (4, 4), (5, 5), (6, 6)}})"
            ]
          },
          "metadata": {},
          "execution_count": 70
        }
      ]
    },
    {
      "cell_type": "code",
      "source": [
        "leyE_1_C = {k : P(A,Omega) for k , A in dE_1_C.items() }\n",
        "leyE_1_C"
      ],
      "metadata": {
        "colab": {
          "base_uri": "https://localhost:8080/"
        },
        "id": "ZV4SXQ5BDQ3c",
        "outputId": "03858222-b4e0-49cd-911c-b04aa92443ac"
      },
      "execution_count": null,
      "outputs": [
        {
          "output_type": "execute_result",
          "data": {
            "text/plain": [
              "{1: Fraction(5, 18), 0: Fraction(1, 6)}"
            ]
          },
          "metadata": {},
          "execution_count": 71
        }
      ]
    },
    {
      "cell_type": "code",
      "source": [
        "leyE_1_CS = pd.Series(leyE_1_C)\n",
        "leyE_1_CS = leyE_1_CS.sort_index()\n",
        "leyE_1_CS"
      ],
      "metadata": {
        "colab": {
          "base_uri": "https://localhost:8080/"
        },
        "id": "ouMTjt83DQuJ",
        "outputId": "2ec20c44-33bf-45d7-8bc0-535ec8996072"
      },
      "execution_count": null,
      "outputs": [
        {
          "output_type": "execute_result",
          "data": {
            "text/plain": [
              "0     1/6\n",
              "1    5/18\n",
              "dtype: object"
            ]
          },
          "metadata": {},
          "execution_count": 72
        }
      ]
    },
    {
      "cell_type": "code",
      "source": [
        "P1_C = sum(leyE_1_CS)\n",
        "P1_C"
      ],
      "metadata": {
        "colab": {
          "base_uri": "https://localhost:8080/"
        },
        "id": "mmArTrXID9kR",
        "outputId": "7fe5bfb0-9bb1-4417-fc52-8ba68a368b25"
      },
      "execution_count": null,
      "outputs": [
        {
          "output_type": "execute_result",
          "data": {
            "text/plain": [
              "Fraction(4, 9)"
            ]
          },
          "metadata": {},
          "execution_count": 73
        }
      ]
    },
    {
      "cell_type": "markdown",
      "source": [
        "La probabilidad del complemento es:\n",
        "$$ \\mathbb{P} (X=x | x>1) = \\frac{4}{9}  \\approx{.444} $$"
      ],
      "metadata": {
        "id": "_fl0D7QoHJiB"
      }
    },
    {
      "cell_type": "markdown",
      "source": [
        "Entonces, sumando las probabilidades:\n",
        "$$ \\sum_{k\\in R_{X}}\\mathbb{P}(X=x) = \\mathbb{P} (X=x | x \\leq 1) + \\mathbb{P} (X=x | x > 1 ) = \\frac{4}{9} + \\frac{5}{9} = \\frac{9}{9} =  1$$"
      ],
      "metadata": {
        "id": "t44ww49EDPhH"
      }
    },
    {
      "cell_type": "code",
      "source": [
        "P1 + P1_C"
      ],
      "metadata": {
        "colab": {
          "base_uri": "https://localhost:8080/"
        },
        "id": "AB_JQuUbGaGW",
        "outputId": "dc57eb3d-7731-4390-fead-7dce2074d84f"
      },
      "execution_count": null,
      "outputs": [
        {
          "output_type": "execute_result",
          "data": {
            "text/plain": [
              "Fraction(1, 1)"
            ]
          },
          "metadata": {},
          "execution_count": 74
        }
      ]
    },
    {
      "cell_type": "markdown",
      "source": [
        "##### Forma 2: Sin restricciones"
      ],
      "metadata": {
        "id": "gBU40XBtFX6Y"
      }
    },
    {
      "cell_type": "code",
      "source": [
        "E_1_2 = {(i,j) : abs(i-j) for i,j in Omega}\n",
        "E_1_2"
      ],
      "metadata": {
        "colab": {
          "base_uri": "https://localhost:8080/"
        },
        "id": "fbVFhtwgFm5D",
        "outputId": "dab3c6ba-644c-4f67-d988-73003a39e687"
      },
      "execution_count": null,
      "outputs": [
        {
          "output_type": "execute_result",
          "data": {
            "text/plain": [
              "{(3, 4): 1,\n",
              " (4, 3): 1,\n",
              " (3, 1): 2,\n",
              " (5, 4): 1,\n",
              " (4, 6): 2,\n",
              " (5, 1): 4,\n",
              " (2, 2): 0,\n",
              " (1, 6): 5,\n",
              " (2, 5): 3,\n",
              " (1, 3): 2,\n",
              " (6, 2): 4,\n",
              " (6, 5): 1,\n",
              " (4, 2): 2,\n",
              " (4, 5): 1,\n",
              " (3, 3): 0,\n",
              " (5, 6): 1,\n",
              " (3, 6): 3,\n",
              " (5, 3): 2,\n",
              " (2, 4): 2,\n",
              " (1, 2): 1,\n",
              " (2, 1): 1,\n",
              " (1, 5): 4,\n",
              " (6, 1): 5,\n",
              " (6, 4): 2,\n",
              " (3, 2): 1,\n",
              " (4, 1): 3,\n",
              " (3, 5): 2,\n",
              " (5, 2): 3,\n",
              " (4, 4): 0,\n",
              " (5, 5): 0,\n",
              " (1, 1): 0,\n",
              " (1, 4): 3,\n",
              " (2, 3): 1,\n",
              " (2, 6): 4,\n",
              " (6, 6): 0,\n",
              " (6, 3): 3}"
            ]
          },
          "metadata": {},
          "execution_count": 75
        }
      ]
    },
    {
      "cell_type": "code",
      "source": [
        "# Creando un nuevo conjunto manipulable\n",
        "dE_1_2 = defaultdict(set)\n",
        "# Invirtiendo diccionarios y juntando\n",
        "for l, v in E_1_2.items():\n",
        "  dE_1_2[v].add(l)\n",
        "dE_1_2"
      ],
      "metadata": {
        "colab": {
          "base_uri": "https://localhost:8080/"
        },
        "id": "qKxwpsPNFw24",
        "outputId": "edd57586-0648-412a-e8ab-fa8b5a427377"
      },
      "execution_count": null,
      "outputs": [
        {
          "output_type": "execute_result",
          "data": {
            "text/plain": [
              "defaultdict(set,\n",
              "            {1: {(1, 2),\n",
              "              (2, 1),\n",
              "              (2, 3),\n",
              "              (3, 2),\n",
              "              (3, 4),\n",
              "              (4, 3),\n",
              "              (4, 5),\n",
              "              (5, 4),\n",
              "              (5, 6),\n",
              "              (6, 5)},\n",
              "             2: {(1, 3),\n",
              "              (2, 4),\n",
              "              (3, 1),\n",
              "              (3, 5),\n",
              "              (4, 2),\n",
              "              (4, 6),\n",
              "              (5, 3),\n",
              "              (6, 4)},\n",
              "             4: {(1, 5), (2, 6), (5, 1), (6, 2)},\n",
              "             0: {(1, 1), (2, 2), (3, 3), (4, 4), (5, 5), (6, 6)},\n",
              "             5: {(1, 6), (6, 1)},\n",
              "             3: {(1, 4), (2, 5), (3, 6), (4, 1), (5, 2), (6, 3)}})"
            ]
          },
          "metadata": {},
          "execution_count": 76
        }
      ]
    },
    {
      "cell_type": "code",
      "source": [
        "leyE_1_2 = {k : P(A,Omega) for k , A in dE_1_2.items() }\n",
        "leyE_1_2"
      ],
      "metadata": {
        "colab": {
          "base_uri": "https://localhost:8080/"
        },
        "id": "WR-RT-AeFwxQ",
        "outputId": "05ebec9f-c0d0-4688-9ade-26f32fb05a5a"
      },
      "execution_count": null,
      "outputs": [
        {
          "output_type": "execute_result",
          "data": {
            "text/plain": [
              "{1: Fraction(5, 18),\n",
              " 2: Fraction(2, 9),\n",
              " 4: Fraction(1, 9),\n",
              " 0: Fraction(1, 6),\n",
              " 5: Fraction(1, 18),\n",
              " 3: Fraction(1, 6)}"
            ]
          },
          "metadata": {},
          "execution_count": 77
        }
      ]
    },
    {
      "cell_type": "code",
      "source": [
        "leyE_1_2S = pd.Series(leyE_1_2)\n",
        "leyE_1_2S = leyE_1_2S.sort_index()\n",
        "leyE_1_2S"
      ],
      "metadata": {
        "colab": {
          "base_uri": "https://localhost:8080/"
        },
        "id": "GIM0ypSrFwvD",
        "outputId": "ed02b1c8-52ad-4cd3-d98c-f0dfd565cbfb"
      },
      "execution_count": null,
      "outputs": [
        {
          "output_type": "execute_result",
          "data": {
            "text/plain": [
              "0     1/6\n",
              "1    5/18\n",
              "2     2/9\n",
              "3     1/6\n",
              "4     1/9\n",
              "5    1/18\n",
              "dtype: object"
            ]
          },
          "metadata": {},
          "execution_count": 78
        }
      ]
    },
    {
      "cell_type": "markdown",
      "source": [
        "De esta forma, es más evidente que se cumple:\n",
        "\n",
        "$$\\sum_{k\\in R_{X}}\\mathbb{P}(X=x)=1.$$\n",
        "\n",
        "Pues abarcamos todos los posibles resultados."
      ],
      "metadata": {
        "id": "5QWDdcnfGfYV"
      }
    },
    {
      "cell_type": "code",
      "source": [
        "#Comprobando al sumar todas las probabilidades de las posibles sumas:\n",
        "sum(leyE_1_2S)"
      ],
      "metadata": {
        "colab": {
          "base_uri": "https://localhost:8080/"
        },
        "id": "JCmQz_iiFwse",
        "outputId": "c34ed089-d1d2-48eb-d25c-08cdab19a32a"
      },
      "execution_count": null,
      "outputs": [
        {
          "output_type": "execute_result",
          "data": {
            "text/plain": [
              "Fraction(1, 1)"
            ]
          },
          "metadata": {},
          "execution_count": 79
        }
      ]
    },
    {
      "cell_type": "markdown",
      "source": [
        "### **Ejercicio 2** - Probabilidad de que la suma de las caras sea par.\n",
        "Realizando un proceso análogo"
      ],
      "metadata": {
        "id": "iHQlqNn27RPS"
      }
    },
    {
      "cell_type": "code",
      "source": [
        "print(Omega)"
      ],
      "metadata": {
        "colab": {
          "base_uri": "https://localhost:8080/"
        },
        "id": "L5ObEQVKAHXH",
        "outputId": "bf54aa92-52a6-4465-b2ff-578556f6a5ca"
      },
      "execution_count": null,
      "outputs": [
        {
          "output_type": "stream",
          "name": "stdout",
          "text": [
            "{(3, 4), (4, 3), (3, 1), (5, 4), (4, 6), (5, 1), (2, 2), (1, 6), (2, 5), (1, 3), (6, 2), (6, 5), (4, 2), (4, 5), (3, 3), (5, 6), (3, 6), (5, 3), (2, 4), (1, 2), (2, 1), (1, 5), (6, 1), (6, 4), (3, 2), (4, 1), (3, 5), (5, 2), (4, 4), (5, 5), (1, 1), (1, 4), (2, 3), (2, 6), (6, 6), (6, 3)}\n"
          ]
        }
      ]
    },
    {
      "cell_type": "markdown",
      "source": [
        "#### Creando el primer diccionario para obtener su probabilidad:\n",
        "- La suma de las caras sea par."
      ],
      "metadata": {
        "id": "i8AL_InH9Hkb"
      }
    },
    {
      "cell_type": "code",
      "source": [
        "# El siguiente diccionario nos dará cada par con su respectiva sumas.\n",
        "E2 = {(i,j) : i+j for i,j in Omega }\n",
        "E2"
      ],
      "metadata": {
        "colab": {
          "base_uri": "https://localhost:8080/"
        },
        "collapsed": true,
        "id": "c4o9PZkt7TFY",
        "outputId": "a19399f6-6f7a-412b-b6de-905df47e5311"
      },
      "execution_count": null,
      "outputs": [
        {
          "output_type": "execute_result",
          "data": {
            "text/plain": [
              "{(3, 4): 7,\n",
              " (4, 3): 7,\n",
              " (3, 1): 4,\n",
              " (5, 4): 9,\n",
              " (4, 6): 10,\n",
              " (5, 1): 6,\n",
              " (2, 2): 4,\n",
              " (1, 6): 7,\n",
              " (2, 5): 7,\n",
              " (1, 3): 4,\n",
              " (6, 2): 8,\n",
              " (6, 5): 11,\n",
              " (4, 2): 6,\n",
              " (4, 5): 9,\n",
              " (3, 3): 6,\n",
              " (5, 6): 11,\n",
              " (3, 6): 9,\n",
              " (5, 3): 8,\n",
              " (2, 4): 6,\n",
              " (1, 2): 3,\n",
              " (2, 1): 3,\n",
              " (1, 5): 6,\n",
              " (6, 1): 7,\n",
              " (6, 4): 10,\n",
              " (3, 2): 5,\n",
              " (4, 1): 5,\n",
              " (3, 5): 8,\n",
              " (5, 2): 7,\n",
              " (4, 4): 8,\n",
              " (5, 5): 10,\n",
              " (1, 1): 2,\n",
              " (1, 4): 5,\n",
              " (2, 3): 5,\n",
              " (2, 6): 8,\n",
              " (6, 6): 12,\n",
              " (6, 3): 9}"
            ]
          },
          "metadata": {},
          "execution_count": 81
        }
      ]
    },
    {
      "cell_type": "code",
      "source": [
        "# El siguiente diccionario nos dará cada par con su respectiva diferencia, pero ya estará filtrado con la condición de la suma par.\n",
        "E_2 = {(i,j) : i+j for i,j in Omega if (i+j)%2  == 0}\n",
        "E_2"
      ],
      "metadata": {
        "colab": {
          "base_uri": "https://localhost:8080/"
        },
        "collapsed": true,
        "id": "yqfOqV-e96ti",
        "outputId": "d534a9a4-f54a-4f8e-c188-c4c0f08a2d35"
      },
      "execution_count": null,
      "outputs": [
        {
          "output_type": "execute_result",
          "data": {
            "text/plain": [
              "{(3, 1): 4,\n",
              " (4, 6): 10,\n",
              " (5, 1): 6,\n",
              " (2, 2): 4,\n",
              " (1, 3): 4,\n",
              " (6, 2): 8,\n",
              " (4, 2): 6,\n",
              " (3, 3): 6,\n",
              " (5, 3): 8,\n",
              " (2, 4): 6,\n",
              " (1, 5): 6,\n",
              " (6, 4): 10,\n",
              " (3, 5): 8,\n",
              " (4, 4): 8,\n",
              " (5, 5): 10,\n",
              " (1, 1): 2,\n",
              " (2, 6): 8,\n",
              " (6, 6): 12}"
            ]
          },
          "metadata": {},
          "execution_count": 82
        }
      ]
    },
    {
      "cell_type": "markdown",
      "source": [
        "#### Acomodando datos:"
      ],
      "metadata": {
        "id": "XbWSzyMDDo4P"
      }
    },
    {
      "cell_type": "code",
      "source": [
        "# Creando un nuevo conjunto manipulable\n",
        "dE_2 = defaultdict(set)\n",
        "dE_2"
      ],
      "metadata": {
        "colab": {
          "base_uri": "https://localhost:8080/"
        },
        "id": "HQ6NTEH892Jt",
        "outputId": "c298305a-a781-4280-da2a-755343c7f7eb"
      },
      "execution_count": null,
      "outputs": [
        {
          "output_type": "execute_result",
          "data": {
            "text/plain": [
              "defaultdict(set, {})"
            ]
          },
          "metadata": {},
          "execution_count": 83
        }
      ]
    },
    {
      "cell_type": "code",
      "source": [
        "# Invirtiendo diccionarios y juntando\n",
        "for l, v in E_2.items():\n",
        "  dE_2[v].add(l)\n",
        "dE_2"
      ],
      "metadata": {
        "colab": {
          "base_uri": "https://localhost:8080/"
        },
        "id": "Yim9s0ucNi_5",
        "outputId": "44ca5f52-453a-4f90-9045-4bd0b4a1c479"
      },
      "execution_count": null,
      "outputs": [
        {
          "output_type": "execute_result",
          "data": {
            "text/plain": [
              "defaultdict(set,\n",
              "            {4: {(1, 3), (2, 2), (3, 1)},\n",
              "             10: {(4, 6), (5, 5), (6, 4)},\n",
              "             6: {(1, 5), (2, 4), (3, 3), (4, 2), (5, 1)},\n",
              "             8: {(2, 6), (3, 5), (4, 4), (5, 3), (6, 2)},\n",
              "             2: {(1, 1)},\n",
              "             12: {(6, 6)}})"
            ]
          },
          "metadata": {},
          "execution_count": 84
        }
      ]
    },
    {
      "cell_type": "markdown",
      "source": [
        "#### Obteniendo su Ley de Probabilidad"
      ],
      "metadata": {
        "id": "56xrrjvjOkFt"
      }
    },
    {
      "cell_type": "code",
      "source": [
        "leyE_2 = {k : P(A,Omega) for k , A in dE_2.items() }\n",
        "leyE_2"
      ],
      "metadata": {
        "colab": {
          "base_uri": "https://localhost:8080/"
        },
        "outputId": "769baf19-0940-4900-9d78-f2fa61c182cb",
        "id": "RcvJFbetO6Ta"
      },
      "execution_count": null,
      "outputs": [
        {
          "output_type": "execute_result",
          "data": {
            "text/plain": [
              "{4: Fraction(1, 12),\n",
              " 10: Fraction(1, 12),\n",
              " 6: Fraction(5, 36),\n",
              " 8: Fraction(5, 36),\n",
              " 2: Fraction(1, 36),\n",
              " 12: Fraction(1, 36)}"
            ]
          },
          "metadata": {},
          "execution_count": 85
        }
      ]
    },
    {
      "cell_type": "markdown",
      "source": [
        "#### Convirtiendo a Pandas"
      ],
      "metadata": {
        "id": "LSOnycNdPMQ0"
      }
    },
    {
      "cell_type": "code",
      "source": [
        "leyE_2S = pd.Series(leyE_2)\n",
        "leyE_2S = leyE_2S.sort_index()\n",
        "leyE_2S"
      ],
      "metadata": {
        "colab": {
          "base_uri": "https://localhost:8080/"
        },
        "id": "jI8kSC3cPOUX",
        "outputId": "3e8359a1-fb66-42f6-ed0d-9520b155316c"
      },
      "execution_count": null,
      "outputs": [
        {
          "output_type": "execute_result",
          "data": {
            "text/plain": [
              "2     1/36\n",
              "4     1/12\n",
              "6     5/36\n",
              "8     5/36\n",
              "10    1/12\n",
              "12    1/36\n",
              "dtype: object"
            ]
          },
          "metadata": {},
          "execution_count": 86
        }
      ]
    },
    {
      "cell_type": "markdown",
      "source": [
        "Obtuvimos la probabilidad de todas las posibles sumas que den como resultado un número par con los dados.\n",
        "Para poder obtener la probabilidad de obtener una pareja de dados cuya suma sea par, podemos sumar las probabilidad; pues tenemos eventos mutuamente excluyentes.\n",
        "\n",
        "---\n",
        "~~~\n",
        "Dos eventos A y B son mutuamente excluyentes si no pueden ocurrir al mismo tiempo, es decir, si no tienen elementos comunes.\n",
        "~~~\n",
        "---"
      ],
      "metadata": {
        "id": "vJsyvNsmPZty"
      }
    },
    {
      "cell_type": "code",
      "source": [
        "P2 = sum(leyE_2S)\n",
        "P2"
      ],
      "metadata": {
        "colab": {
          "base_uri": "https://localhost:8080/"
        },
        "id": "nkNRxqN9PbhN",
        "outputId": "ee9e8df1-996d-4f35-8cc8-0d5dec275fa6"
      },
      "execution_count": null,
      "outputs": [
        {
          "output_type": "execute_result",
          "data": {
            "text/plain": [
              "Fraction(1, 2)"
            ]
          },
          "metadata": {},
          "execution_count": 87
        }
      ]
    },
    {
      "cell_type": "markdown",
      "source": [
        "Por lo que la probabilidad de obtener dos números cuya suma sea par:\n",
        "$$ \\mathbb{P} (X = x | x = 2n)= \\frac{1}{2} = .5 \\quad; \\quad n \\in \\mathbb{N} \\cup \\{0\\} $$"
      ],
      "metadata": {
        "id": "fvcfgw2UPka8"
      }
    },
    {
      "cell_type": "markdown",
      "source": [
        "#### Comprobando:\n",
        "Haciendo el análogo del ejercicio para:\n",
        "\n",
        "$$\\sum_{k\\in R_{X}}\\mathbb{P}(X=x)=1.$$"
      ],
      "metadata": {
        "id": "Vh8WZZ-AHy3p"
      }
    },
    {
      "cell_type": "markdown",
      "source": [
        "##### Forma 1: Sumando complemento"
      ],
      "metadata": {
        "id": "5mddM-lyIJOc"
      }
    },
    {
      "cell_type": "code",
      "source": [
        "E_2_C = {(i,j) : i+j for i,j in Omega if (i+j)%2  == 1}\n",
        "E_2_C"
      ],
      "metadata": {
        "colab": {
          "base_uri": "https://localhost:8080/"
        },
        "id": "LVEh9PwuPqdU",
        "outputId": "6a14454f-7264-4fbf-f082-2fb263857f2e"
      },
      "execution_count": null,
      "outputs": [
        {
          "output_type": "execute_result",
          "data": {
            "text/plain": [
              "{(3, 4): 7,\n",
              " (4, 3): 7,\n",
              " (5, 4): 9,\n",
              " (1, 6): 7,\n",
              " (2, 5): 7,\n",
              " (6, 5): 11,\n",
              " (4, 5): 9,\n",
              " (5, 6): 11,\n",
              " (3, 6): 9,\n",
              " (1, 2): 3,\n",
              " (2, 1): 3,\n",
              " (6, 1): 7,\n",
              " (3, 2): 5,\n",
              " (4, 1): 5,\n",
              " (5, 2): 7,\n",
              " (1, 4): 5,\n",
              " (2, 3): 5,\n",
              " (6, 3): 9}"
            ]
          },
          "metadata": {},
          "execution_count": 88
        }
      ]
    },
    {
      "cell_type": "code",
      "source": [
        "# Creando un nuevo conjunto manipulable\n",
        "dE_2_C = defaultdict(set)\n",
        "# Invirtiendo diccionarios y juntando\n",
        "for l, v in E_2_C.items():\n",
        "  dE_2_C[v].add(l)\n",
        "dE_2_C"
      ],
      "metadata": {
        "colab": {
          "base_uri": "https://localhost:8080/"
        },
        "id": "AyGdebWHIm1S",
        "outputId": "a0475fd8-8d14-4551-8a31-bfabf84c9530"
      },
      "execution_count": null,
      "outputs": [
        {
          "output_type": "execute_result",
          "data": {
            "text/plain": [
              "defaultdict(set,\n",
              "            {7: {(1, 6), (2, 5), (3, 4), (4, 3), (5, 2), (6, 1)},\n",
              "             9: {(3, 6), (4, 5), (5, 4), (6, 3)},\n",
              "             11: {(5, 6), (6, 5)},\n",
              "             3: {(1, 2), (2, 1)},\n",
              "             5: {(1, 4), (2, 3), (3, 2), (4, 1)}})"
            ]
          },
          "metadata": {},
          "execution_count": 89
        }
      ]
    },
    {
      "cell_type": "code",
      "source": [
        "leyE_2_C = {k : P(A,Omega) for k , A in dE_2_C.items() }\n",
        "leyE_2_C"
      ],
      "metadata": {
        "colab": {
          "base_uri": "https://localhost:8080/"
        },
        "id": "DJFvWzsQKADe",
        "outputId": "52ae9bc8-0741-471f-b9b2-f1eda803e9a2"
      },
      "execution_count": null,
      "outputs": [
        {
          "output_type": "execute_result",
          "data": {
            "text/plain": [
              "{7: Fraction(1, 6),\n",
              " 9: Fraction(1, 9),\n",
              " 11: Fraction(1, 18),\n",
              " 3: Fraction(1, 18),\n",
              " 5: Fraction(1, 9)}"
            ]
          },
          "metadata": {},
          "execution_count": 90
        }
      ]
    },
    {
      "cell_type": "code",
      "source": [
        "leyE_2_CS = pd.Series(leyE_2_C)\n",
        "leyE_2_CS = leyE_2_CS.sort_index()\n",
        "leyE_2_CS"
      ],
      "metadata": {
        "colab": {
          "base_uri": "https://localhost:8080/"
        },
        "id": "QxyK3ydJKO0_",
        "outputId": "621142bf-a76b-46da-ca8b-24ca47b5dc70"
      },
      "execution_count": null,
      "outputs": [
        {
          "output_type": "execute_result",
          "data": {
            "text/plain": [
              "3     1/18\n",
              "5      1/9\n",
              "7      1/6\n",
              "9      1/9\n",
              "11    1/18\n",
              "dtype: object"
            ]
          },
          "metadata": {},
          "execution_count": 91
        }
      ]
    },
    {
      "cell_type": "code",
      "source": [
        "P2_C = sum(leyE_2_CS)\n",
        "P2_C"
      ],
      "metadata": {
        "colab": {
          "base_uri": "https://localhost:8080/"
        },
        "id": "dm5eWaw1KJVX",
        "outputId": "13aa1ba9-de57-4e56-c239-7d4d6f62631f"
      },
      "execution_count": null,
      "outputs": [
        {
          "output_type": "execute_result",
          "data": {
            "text/plain": [
              "Fraction(1, 2)"
            ]
          },
          "metadata": {},
          "execution_count": 92
        }
      ]
    },
    {
      "cell_type": "markdown",
      "source": [
        "Sumando las probabilidades para corroborar:\n",
        "Entonces, sumando las probabilidades:\n",
        "$$ \\sum_{k\\in R_{X}}\\mathbb{P}(X=x) = \\mathbb{P} (X=x | x = 2n-1) + \\mathbb{P} (X=x | x = 2n ) = \\frac{1}{2} + \\frac{1}{2} = \\frac{2}{2} =  1 \\quad; \\quad n \\in \\mathbb{N} \\cup \\{0\\} $$\n",
        "\n"
      ],
      "metadata": {
        "id": "Le6hYe-5Kdkm"
      }
    },
    {
      "cell_type": "code",
      "source": [
        "P2 + P2_C"
      ],
      "metadata": {
        "colab": {
          "base_uri": "https://localhost:8080/"
        },
        "id": "wWIF3NXfMztt",
        "outputId": "a80839bf-828e-472c-e993-d9e0a4c153b2"
      },
      "execution_count": null,
      "outputs": [
        {
          "output_type": "execute_result",
          "data": {
            "text/plain": [
              "Fraction(1, 1)"
            ]
          },
          "metadata": {},
          "execution_count": 93
        }
      ]
    },
    {
      "cell_type": "markdown",
      "source": [
        "##### Forma 2: Sin restricciones"
      ],
      "metadata": {
        "id": "lSUUXUSTNIZG"
      }
    },
    {
      "cell_type": "code",
      "source": [
        "E_2_2 = {(i,j) : i+j for i,j in Omega if (i+j)%2  == 1 or (i+j)%2  == 0}\n",
        "#E_2_2 = {(i,j) : i+j for i,j in Omega} # Con cualquiera de las dos opciones nos referimos al mismo conjunto\n",
        "E_2_2"
      ],
      "metadata": {
        "colab": {
          "base_uri": "https://localhost:8080/"
        },
        "id": "ARMzefLgM3ym",
        "outputId": "0f35f781-400f-493e-9fc8-95ae46fc7c4c"
      },
      "execution_count": null,
      "outputs": [
        {
          "output_type": "execute_result",
          "data": {
            "text/plain": [
              "{(3, 4): 7,\n",
              " (4, 3): 7,\n",
              " (3, 1): 4,\n",
              " (5, 4): 9,\n",
              " (4, 6): 10,\n",
              " (5, 1): 6,\n",
              " (2, 2): 4,\n",
              " (1, 6): 7,\n",
              " (2, 5): 7,\n",
              " (1, 3): 4,\n",
              " (6, 2): 8,\n",
              " (6, 5): 11,\n",
              " (4, 2): 6,\n",
              " (4, 5): 9,\n",
              " (3, 3): 6,\n",
              " (5, 6): 11,\n",
              " (3, 6): 9,\n",
              " (5, 3): 8,\n",
              " (2, 4): 6,\n",
              " (1, 2): 3,\n",
              " (2, 1): 3,\n",
              " (1, 5): 6,\n",
              " (6, 1): 7,\n",
              " (6, 4): 10,\n",
              " (3, 2): 5,\n",
              " (4, 1): 5,\n",
              " (3, 5): 8,\n",
              " (5, 2): 7,\n",
              " (4, 4): 8,\n",
              " (5, 5): 10,\n",
              " (1, 1): 2,\n",
              " (1, 4): 5,\n",
              " (2, 3): 5,\n",
              " (2, 6): 8,\n",
              " (6, 6): 12,\n",
              " (6, 3): 9}"
            ]
          },
          "metadata": {},
          "execution_count": 96
        }
      ]
    },
    {
      "cell_type": "code",
      "source": [
        "# Creando un nuevo conjunto manipulable\n",
        "dE_2_2 = defaultdict(set)\n",
        "# Invirtiendo diccionarios y juntando\n",
        "for l, v in E_2_2.items():\n",
        "  dE_2_2[v].add(l)\n",
        "dE_2_2"
      ],
      "metadata": {
        "colab": {
          "base_uri": "https://localhost:8080/"
        },
        "id": "uqtt6_f1NVlH",
        "outputId": "27e513d2-6b2f-4c99-cd0a-9dffee7814c9"
      },
      "execution_count": null,
      "outputs": [
        {
          "output_type": "execute_result",
          "data": {
            "text/plain": [
              "defaultdict(set,\n",
              "            {7: {(1, 6), (2, 5), (3, 4), (4, 3), (5, 2), (6, 1)},\n",
              "             4: {(1, 3), (2, 2), (3, 1)},\n",
              "             9: {(3, 6), (4, 5), (5, 4), (6, 3)},\n",
              "             10: {(4, 6), (5, 5), (6, 4)},\n",
              "             6: {(1, 5), (2, 4), (3, 3), (4, 2), (5, 1)},\n",
              "             8: {(2, 6), (3, 5), (4, 4), (5, 3), (6, 2)},\n",
              "             11: {(5, 6), (6, 5)},\n",
              "             3: {(1, 2), (2, 1)},\n",
              "             5: {(1, 4), (2, 3), (3, 2), (4, 1)},\n",
              "             2: {(1, 1)},\n",
              "             12: {(6, 6)}})"
            ]
          },
          "metadata": {},
          "execution_count": 97
        }
      ]
    },
    {
      "cell_type": "code",
      "source": [
        "leyE_2_2 = {k : P(A,Omega) for k , A in dE_2_2.items() }\n",
        "leyE_2_2"
      ],
      "metadata": {
        "colab": {
          "base_uri": "https://localhost:8080/"
        },
        "id": "HN7t_R29NqWy",
        "outputId": "962308c5-b6b5-4524-acb0-cfde71ba245a"
      },
      "execution_count": null,
      "outputs": [
        {
          "output_type": "execute_result",
          "data": {
            "text/plain": [
              "{7: Fraction(1, 6),\n",
              " 4: Fraction(1, 12),\n",
              " 9: Fraction(1, 9),\n",
              " 10: Fraction(1, 12),\n",
              " 6: Fraction(5, 36),\n",
              " 8: Fraction(5, 36),\n",
              " 11: Fraction(1, 18),\n",
              " 3: Fraction(1, 18),\n",
              " 5: Fraction(1, 9),\n",
              " 2: Fraction(1, 36),\n",
              " 12: Fraction(1, 36)}"
            ]
          },
          "metadata": {},
          "execution_count": 101
        }
      ]
    },
    {
      "cell_type": "code",
      "source": [
        "leyE_2_2S = pd.Series(leyE_2_2)\n",
        "leyE_2_2S = leyE_2_2S.sort_index()\n",
        "leyE_2_2S"
      ],
      "metadata": {
        "colab": {
          "base_uri": "https://localhost:8080/"
        },
        "id": "fGIt-xb2NuGq",
        "outputId": "3010f0af-1113-4bae-f0fe-c5e975d5af8c"
      },
      "execution_count": null,
      "outputs": [
        {
          "output_type": "execute_result",
          "data": {
            "text/plain": [
              "2     1/36\n",
              "3     1/18\n",
              "4     1/12\n",
              "5      1/9\n",
              "6     5/36\n",
              "7      1/6\n",
              "8     5/36\n",
              "9      1/9\n",
              "10    1/12\n",
              "11    1/18\n",
              "12    1/36\n",
              "dtype: object"
            ]
          },
          "metadata": {},
          "execution_count": 102
        }
      ]
    },
    {
      "cell_type": "markdown",
      "source": [
        "Nuevamente, es más evidente, en esta forma, que se cumple:\n",
        "\n",
        "$$\\sum_{k\\in R_{X}}\\mathbb{P}(X=x)=1.$$\n",
        "\n",
        "Pues abarcamos todos los posibles resultados."
      ],
      "metadata": {
        "id": "8GLgQxi_OFdJ"
      }
    },
    {
      "cell_type": "code",
      "source": [
        "P2_2 = sum(leyE_2_2S)\n",
        "P2_2"
      ],
      "metadata": {
        "colab": {
          "base_uri": "https://localhost:8080/"
        },
        "id": "TQHxaI_LNz3d",
        "outputId": "11b4c09c-b49e-464b-fb76-14388ab30e3f"
      },
      "execution_count": null,
      "outputs": [
        {
          "output_type": "execute_result",
          "data": {
            "text/plain": [
              "Fraction(1, 1)"
            ]
          },
          "metadata": {},
          "execution_count": 105
        }
      ]
    }
  ]
}