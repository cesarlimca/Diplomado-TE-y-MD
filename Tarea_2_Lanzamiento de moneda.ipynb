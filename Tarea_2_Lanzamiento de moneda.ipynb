{
  "nbformat": 4,
  "nbformat_minor": 0,
  "metadata": {
    "colab": {
      "provenance": [],
      "authorship_tag": "ABX9TyOKRGrEHHvtBi/eyS2ed5/C",
      "include_colab_link": true
    },
    "kernelspec": {
      "name": "python3",
      "display_name": "Python 3"
    },
    "language_info": {
      "name": "python"
    }
  },
  "cells": [
    {
      "cell_type": "markdown",
      "metadata": {
        "id": "view-in-github",
        "colab_type": "text"
      },
      "source": [
        "<a href=\"https://colab.research.google.com/github/cesarlimca/Diplomado-TE-y-MD/blob/main/Tarea%202_Lanzamiento%20de%20moneda.ipynb\" target=\"_parent\"><img src=\"https://colab.research.google.com/assets/colab-badge.svg\" alt=\"Open In Colab\"/></a>"
      ]
    },
    {
      "cell_type": "markdown",
      "source": [
        "# **Equipo 5**\n",
        "\n",
        "1. Estrada Barrón Teresa Jazmin\n",
        "2. González Herrera Cecilia Gabriela\n",
        "3. Hernández Nieto Brayan David\n",
        "4. Limones Carro César Adrián\n",
        "5. Rivera Loredo César"
      ],
      "metadata": {
        "id": "N_qyU2GDkmTz"
      }
    },
    {
      "cell_type": "markdown",
      "source": [
        "## **ALGUNOS CONCEPTOS DE PYTHON**\n",
        "\n",
        "\n",
        "\n",
        "*   Es un lenguaje orientado a objetos.\n",
        "**  Objetos: int, float, str, listas (list), vectores (arrays), conjuntos (set), diccinarios (dict), etc.\n",
        "*   Elemento de la lista\n",
        "\n"
      ],
      "metadata": {
        "id": "bi9TMsPNWsDP"
      }
    },
    {
      "cell_type": "markdown",
      "source": [
        "# **MODELO CLÁSICO LAPLACIANO**"
      ],
      "metadata": {
        "id": "EKCAjyIypx2o"
      }
    },
    {
      "cell_type": "markdown",
      "source": [
        "### Ejemplo: Lanzamiento de 3 monedas\n",
        "\n",
        "Se tiene un experimento aleatorio. Se lanzan, de manera independiente 3 monedas.\n",
        "\n",
        "El espacio muestral es:\n",
        "\n",
        "$$ Ω = \\{A, S\\} × \\{A, S\\} × \\{A, S\\} = \\{A, S\\}^3 $$"
      ],
      "metadata": {
        "id": "t01euQIup97U"
      }
    },
    {
      "cell_type": "code",
      "execution_count": null,
      "metadata": {
        "cellView": "form",
        "id": "t6trtL4AWiP8"
      },
      "outputs": [],
      "source": [
        "#@title Lanzamiento de 3 monedas\n"
      ]
    },
    {
      "cell_type": "code",
      "source": [
        "# Vamos a crear el código para Omega\n",
        "\n",
        "import itertools\n",
        "from itertools import product\n",
        "\n",
        "Omega = set(product({\"A\", \"S\"}, repeat= 3))\n",
        "Omega"
      ],
      "metadata": {
        "colab": {
          "base_uri": "https://localhost:8080/"
        },
        "id": "63hQiNqPwSz6",
        "outputId": "f4c9a92b-d230-43af-e014-f0cf5d222881"
      },
      "execution_count": null,
      "outputs": [
        {
          "output_type": "execute_result",
          "data": {
            "text/plain": [
              "{('A', 'A', 'A'),\n",
              " ('A', 'A', 'S'),\n",
              " ('A', 'S', 'A'),\n",
              " ('A', 'S', 'S'),\n",
              " ('S', 'A', 'A'),\n",
              " ('S', 'A', 'S'),\n",
              " ('S', 'S', 'A'),\n",
              " ('S', 'S', 'S')}"
            ]
          },
          "metadata": {},
          "execution_count": 50
        }
      ]
    },
    {
      "cell_type": "code",
      "source": [
        "type(Omega)"
      ],
      "metadata": {
        "colab": {
          "base_uri": "https://localhost:8080/"
        },
        "id": "JdGWjTt_dK9t",
        "outputId": "0a400f1d-691d-467c-fcde-d6768898e2e1"
      },
      "execution_count": null,
      "outputs": [
        {
          "output_type": "execute_result",
          "data": {
            "text/plain": [
              "set"
            ]
          },
          "metadata": {},
          "execution_count": 51
        }
      ]
    },
    {
      "cell_type": "code",
      "source": [
        "len(Omega)"
      ],
      "metadata": {
        "colab": {
          "base_uri": "https://localhost:8080/"
        },
        "id": "ghn5PyT2wSwd",
        "outputId": "686d2d38-6c01-4bdd-d23c-22d8b2aa3796"
      },
      "execution_count": null,
      "outputs": [
        {
          "output_type": "execute_result",
          "data": {
            "text/plain": [
              "8"
            ]
          },
          "metadata": {},
          "execution_count": 52
        }
      ]
    },
    {
      "cell_type": "code",
      "source": [
        "T = (\"A1\", \"A2\", \"A3\")\n",
        "T[0]"
      ],
      "metadata": {
        "colab": {
          "base_uri": "https://localhost:8080/",
          "height": 36
        },
        "id": "MHYgjU7hwSts",
        "outputId": "a4d043d3-06b1-4972-ae63-7977f79dc6bb"
      },
      "execution_count": null,
      "outputs": [
        {
          "output_type": "execute_result",
          "data": {
            "text/plain": [
              "'A1'"
            ],
            "application/vnd.google.colaboratory.intrinsic+json": {
              "type": "string"
            }
          },
          "metadata": {},
          "execution_count": 53
        }
      ]
    },
    {
      "cell_type": "code",
      "source": [],
      "metadata": {
        "id": "h8KbWt0gwSl4"
      },
      "execution_count": null,
      "outputs": []
    },
    {
      "cell_type": "markdown",
      "source": [
        "Consideremos los siguientes eventos:\n",
        "\n",
        "\n",
        "1.   A: todas las caras sean águilas.\n",
        "2.   S: todas las caras sean soles.\n",
        "3.   E: por lo menos una cara sea sol."
      ],
      "metadata": {
        "id": "fVe-uSOSEDy2"
      }
    },
    {
      "cell_type": "markdown",
      "source": [
        "Vamos a contestar la primer pregunta.\n",
        "\n",
        "Llamemos como $A_{i}$ al evento en donde cae águila en el $i$-ésimo resultado.\n",
        "\n",
        "Así,\n",
        "$$A=A_{1}\\cap A_{2}\\cap A_{3}.$$"
      ],
      "metadata": {
        "id": "B5mGiNF4GUdo"
      }
    },
    {
      "cell_type": "markdown",
      "source": [
        "Se crean tres eventos: 1."
      ],
      "metadata": {
        "id": "qLCNj4FLJQD1"
      }
    },
    {
      "cell_type": "code",
      "source": [
        "# Creamos a nuestro primer evento\n",
        "\n",
        "A_1 = {om for om in Omega if om[0]==\"A\"}\n",
        "A_1"
      ],
      "metadata": {
        "colab": {
          "base_uri": "https://localhost:8080/"
        },
        "id": "r7W23pNYEibD",
        "outputId": "83869dbe-7b4d-4254-c058-40f6893c3ba9"
      },
      "execution_count": null,
      "outputs": [
        {
          "output_type": "execute_result",
          "data": {
            "text/plain": [
              "{('A', 'A', 'A'), ('A', 'A', 'S'), ('A', 'S', 'A'), ('A', 'S', 'S')}"
            ]
          },
          "metadata": {},
          "execution_count": 54
        }
      ]
    },
    {
      "cell_type": "code",
      "source": [
        "# Creamos a nuestro segundo evento\n",
        "\n",
        "A_2 = {om for om in Omega if om[1]==\"A\"}\n",
        "A_2"
      ],
      "metadata": {
        "colab": {
          "base_uri": "https://localhost:8080/"
        },
        "id": "5i3Sn44fIr7J",
        "outputId": "a70800f9-83ed-4c9a-b00d-77f677576f89"
      },
      "execution_count": null,
      "outputs": [
        {
          "output_type": "execute_result",
          "data": {
            "text/plain": [
              "{('A', 'A', 'A'), ('A', 'A', 'S'), ('S', 'A', 'A'), ('S', 'A', 'S')}"
            ]
          },
          "metadata": {},
          "execution_count": 55
        }
      ]
    },
    {
      "cell_type": "code",
      "source": [
        "# Creamos a nuestro tercer evento\n",
        "\n",
        "A_3 = {om for om in Omega if om[2]==\"A\"}\n",
        "A_3"
      ],
      "metadata": {
        "colab": {
          "base_uri": "https://localhost:8080/"
        },
        "id": "Ksu2Vi8tIr3j",
        "outputId": "bbc1ef4d-07f0-4ce5-8efb-1df0a7ac89d6"
      },
      "execution_count": null,
      "outputs": [
        {
          "output_type": "execute_result",
          "data": {
            "text/plain": [
              "{('A', 'A', 'A'), ('A', 'S', 'A'), ('S', 'A', 'A'), ('S', 'S', 'A')}"
            ]
          },
          "metadata": {},
          "execution_count": 56
        }
      ]
    },
    {
      "cell_type": "markdown",
      "source": [
        "Usando función interesección:"
      ],
      "metadata": {
        "id": "lIr2i-xaI8U4"
      }
    },
    {
      "cell_type": "code",
      "source": [
        "A = A_1.intersection(A_2.intersection(A_3))\n",
        "A"
      ],
      "metadata": {
        "colab": {
          "base_uri": "https://localhost:8080/"
        },
        "id": "rCaIVJ1FIr08",
        "outputId": "8eb46d67-34ab-4aa0-834d-23448effe508"
      },
      "execution_count": null,
      "outputs": [
        {
          "output_type": "execute_result",
          "data": {
            "text/plain": [
              "{('A', 'A', 'A')}"
            ]
          },
          "metadata": {},
          "execution_count": 57
        }
      ]
    },
    {
      "cell_type": "markdown",
      "source": [
        "Obteneniendo la probabilidad según el modelo clásico Laplaciano"
      ],
      "metadata": {
        "id": "ZbS5SQFsKSfA"
      }
    },
    {
      "cell_type": "code",
      "source": [
        "P_A = len(A)/len(Omega)\n",
        "P_A"
      ],
      "metadata": {
        "colab": {
          "base_uri": "https://localhost:8080/"
        },
        "id": "W2mlJPuhJGnL",
        "outputId": "302e4791-9a05-4fa4-c552-4629dd81886d"
      },
      "execution_count": null,
      "outputs": [
        {
          "output_type": "execute_result",
          "data": {
            "text/plain": [
              "0.125"
            ]
          },
          "metadata": {},
          "execution_count": 58
        }
      ]
    },
    {
      "cell_type": "markdown",
      "source": [
        "También podemos ingeniernos para seleccionar ciertos conjuntos, con ciertas características. Esto nos permite buscar la probabildad de ciertos eventos.\n",
        "\n",
        "Ejemplo: Obtener la probabiliad de que que las salgan 3 \"A\" en los tiros."
      ],
      "metadata": {
        "id": "ES8otkwzZTUg"
      }
    },
    {
      "cell_type": "code",
      "source": [
        "A4 = {om for om in Omega if om.count(\"A\")==3}\n",
        "A4"
      ],
      "metadata": {
        "colab": {
          "base_uri": "https://localhost:8080/"
        },
        "id": "e99iXmmCJGjl",
        "outputId": "efd27fa7-cda7-4145-8ed8-96804cdf34d9"
      },
      "execution_count": null,
      "outputs": [
        {
          "output_type": "execute_result",
          "data": {
            "text/plain": [
              "{('A', 'A', 'A')}"
            ]
          },
          "metadata": {},
          "execution_count": 59
        }
      ]
    },
    {
      "cell_type": "code",
      "source": [
        "P3A = (len(A4))/(len(Omega))\n",
        "P3A"
      ],
      "metadata": {
        "colab": {
          "base_uri": "https://localhost:8080/"
        },
        "id": "M4nSi19faI_A",
        "outputId": "d21f94fc-d9a2-4778-ebe0-4a5280898d5c"
      },
      "execution_count": null,
      "outputs": [
        {
          "output_type": "execute_result",
          "data": {
            "text/plain": [
              "0.125"
            ]
          },
          "metadata": {},
          "execution_count": 60
        }
      ]
    },
    {
      "cell_type": "markdown",
      "source": [
        "### Definimos una función que que nos permita presentar la probabilidad a modo de fracción y no como decimal."
      ],
      "metadata": {
        "id": "CjGlLtGuY29O"
      }
    },
    {
      "cell_type": "code",
      "source": [
        "from fractions import Fraction\n",
        "\n",
        "def P(E, Omega):\n",
        "  p = Fraction(len(E),len(Omega))\n",
        "  return p"
      ],
      "metadata": {
        "id": "EwfF_N0BEVnz"
      },
      "execution_count": null,
      "outputs": []
    },
    {
      "cell_type": "code",
      "source": [
        "#@title Obteniendo el siguiente evento. 3. Por lo menos una cara sea sol.\n",
        "E={om for om in Omega if om.count(\"S\")>=1}\n",
        "E"
      ],
      "metadata": {
        "colab": {
          "base_uri": "https://localhost:8080/"
        },
        "id": "nsOygcPcwSjV",
        "outputId": "1de48bb1-1d5b-4091-d89c-207e82ebfc4d"
      },
      "execution_count": null,
      "outputs": [
        {
          "output_type": "execute_result",
          "data": {
            "text/plain": [
              "{('A', 'A', 'S'),\n",
              " ('A', 'S', 'A'),\n",
              " ('A', 'S', 'S'),\n",
              " ('S', 'A', 'A'),\n",
              " ('S', 'A', 'S'),\n",
              " ('S', 'S', 'A'),\n",
              " ('S', 'S', 'S')}"
            ]
          },
          "metadata": {},
          "execution_count": 62
        }
      ]
    },
    {
      "cell_type": "code",
      "source": [
        "PE = P(E, Omega)\n",
        "PE"
      ],
      "metadata": {
        "colab": {
          "base_uri": "https://localhost:8080/"
        },
        "id": "2kakyWSdwSgn",
        "outputId": "649fcbaf-cf43-468b-d0ae-3d8387b891c1"
      },
      "execution_count": null,
      "outputs": [
        {
          "output_type": "execute_result",
          "data": {
            "text/plain": [
              "Fraction(7, 8)"
            ]
          },
          "metadata": {},
          "execution_count": 63
        }
      ]
    },
    {
      "cell_type": "code",
      "source": [
        "type(PE)"
      ],
      "metadata": {
        "colab": {
          "base_uri": "https://localhost:8080/"
        },
        "id": "uUn5iW_DwGAo",
        "outputId": "44ffc53b-5237-4664-9064-d5f8b7ecc89f"
      },
      "execution_count": null,
      "outputs": [
        {
          "output_type": "execute_result",
          "data": {
            "text/plain": [
              "fractions.Fraction"
            ]
          },
          "metadata": {},
          "execution_count": 64
        }
      ]
    },
    {
      "cell_type": "code",
      "source": [
        "# Mostrando la probabilidad en decimal\n",
        "PED = len(E)/len(Omega)\n",
        "PED"
      ],
      "metadata": {
        "colab": {
          "base_uri": "https://localhost:8080/"
        },
        "id": "4u_HC8p-bg_W",
        "outputId": "9d03fc70-383e-4e11-cac4-a98abc30d8b2"
      },
      "execution_count": null,
      "outputs": [
        {
          "output_type": "execute_result",
          "data": {
            "text/plain": [
              "0.875"
            ]
          },
          "metadata": {},
          "execution_count": 65
        }
      ]
    },
    {
      "cell_type": "markdown",
      "source": [
        "## **Ejercicio**"
      ],
      "metadata": {
        "id": "IRATJNeiKbGj"
      }
    },
    {
      "cell_type": "markdown",
      "source": [
        "**4. Probabilidad de que salgan un Águila en la primera moneda y Sol en la segunda.**"
      ],
      "metadata": {
        "id": "m5zCjBEOF8RV"
      }
    },
    {
      "cell_type": "markdown",
      "source": [
        "Utilizando la función creada previamente."
      ],
      "metadata": {
        "id": "dh2du3FMKgoG"
      }
    },
    {
      "cell_type": "code",
      "source": [
        "D = {om for om in Omega if om[0]==\"A\" and om[1]==\"S\"}\n",
        "D"
      ],
      "metadata": {
        "colab": {
          "base_uri": "https://localhost:8080/"
        },
        "id": "AEANsdnAF2tp",
        "outputId": "5c8c2bf5-deaa-4dba-fddd-b4a40ad3f982"
      },
      "execution_count": null,
      "outputs": [
        {
          "output_type": "execute_result",
          "data": {
            "text/plain": [
              "{('A', 'S', 'A'), ('A', 'S', 'S')}"
            ]
          },
          "metadata": {},
          "execution_count": 66
        }
      ]
    },
    {
      "cell_type": "code",
      "source": [
        "PD = P(D, Omega)\n",
        "PD"
      ],
      "metadata": {
        "colab": {
          "base_uri": "https://localhost:8080/"
        },
        "id": "ta1qYZm6GsO6",
        "outputId": "b5f4d639-bd7c-4d37-c550-59290d12e132"
      },
      "execution_count": null,
      "outputs": [
        {
          "output_type": "execute_result",
          "data": {
            "text/plain": [
              "Fraction(1, 4)"
            ]
          },
          "metadata": {},
          "execution_count": 67
        }
      ]
    },
    {
      "cell_type": "code",
      "source": [
        "# En decimales\n",
        "PDD = len(D)/len(Omega)\n",
        "PDD"
      ],
      "metadata": {
        "colab": {
          "base_uri": "https://localhost:8080/"
        },
        "id": "u6xo03aab3Iw",
        "outputId": "07344b15-8c1a-4962-8b1e-f6a3bff99cec"
      },
      "execution_count": null,
      "outputs": [
        {
          "output_type": "execute_result",
          "data": {
            "text/plain": [
              "0.25"
            ]
          },
          "metadata": {},
          "execution_count": 68
        }
      ]
    },
    {
      "cell_type": "markdown",
      "source": [
        "Utilizando conjuntos."
      ],
      "metadata": {
        "id": "u5MdXkF-Kj4v"
      }
    },
    {
      "cell_type": "code",
      "source": [
        "C1 = {om for om in Omega if om[0]==\"A\"}\n",
        "C1"
      ],
      "metadata": {
        "id": "qLx5HBOWHDNH",
        "colab": {
          "base_uri": "https://localhost:8080/"
        },
        "outputId": "d272b2af-51d8-4513-d163-9b23a7c32904"
      },
      "execution_count": null,
      "outputs": [
        {
          "output_type": "execute_result",
          "data": {
            "text/plain": [
              "{('A', 'A', 'A'), ('A', 'A', 'S'), ('A', 'S', 'A'), ('A', 'S', 'S')}"
            ]
          },
          "metadata": {},
          "execution_count": 69
        }
      ]
    },
    {
      "cell_type": "code",
      "source": [
        "C2 = {om for om in Omega if om[1]==\"S\"}\n",
        "C2"
      ],
      "metadata": {
        "colab": {
          "base_uri": "https://localhost:8080/"
        },
        "id": "-lm3CWwAcKyb",
        "outputId": "fe40abfc-f074-4768-b229-e747c85c202e"
      },
      "execution_count": null,
      "outputs": [
        {
          "output_type": "execute_result",
          "data": {
            "text/plain": [
              "{('A', 'S', 'A'), ('A', 'S', 'S'), ('S', 'S', 'A'), ('S', 'S', 'S')}"
            ]
          },
          "metadata": {},
          "execution_count": 70
        }
      ]
    },
    {
      "cell_type": "code",
      "source": [
        "# Intersectando conjuntos\n",
        "C_D = C1.intersection(C2)\n",
        "C_D"
      ],
      "metadata": {
        "colab": {
          "base_uri": "https://localhost:8080/"
        },
        "id": "PD71XEjMcKvL",
        "outputId": "55453c25-4027-49ce-fbb5-6d72b30099d4"
      },
      "execution_count": null,
      "outputs": [
        {
          "output_type": "execute_result",
          "data": {
            "text/plain": [
              "{('A', 'S', 'A'), ('A', 'S', 'S')}"
            ]
          },
          "metadata": {},
          "execution_count": 71
        }
      ]
    },
    {
      "cell_type": "code",
      "source": [
        "PDC = P(C_D, Omega)\n",
        "PDC"
      ],
      "metadata": {
        "colab": {
          "base_uri": "https://localhost:8080/"
        },
        "id": "H6prHN_Acmbf",
        "outputId": "c46105d5-69c4-45c0-b7c5-9e26854d8b05"
      },
      "execution_count": null,
      "outputs": [
        {
          "output_type": "execute_result",
          "data": {
            "text/plain": [
              "Fraction(1, 4)"
            ]
          },
          "metadata": {},
          "execution_count": 72
        }
      ]
    },
    {
      "cell_type": "code",
      "source": [
        "# La probabiliadad en decimal\n",
        "PDCD = len(C_D)/len(Omega)\n",
        "PDCD"
      ],
      "metadata": {
        "colab": {
          "base_uri": "https://localhost:8080/"
        },
        "id": "xTT-v5HBePuI",
        "outputId": "fe33b4ec-6da0-45af-a67c-137de6845a16"
      },
      "execution_count": null,
      "outputs": [
        {
          "output_type": "execute_result",
          "data": {
            "text/plain": [
              "0.25"
            ]
          },
          "metadata": {},
          "execution_count": 73
        }
      ]
    },
    {
      "cell_type": "markdown",
      "source": [
        "Comprobamos que utilizando conjuntos o poniendo la condicional adecuada, podemos llegar al mismo resultado."
      ],
      "metadata": {
        "id": "ssmORfLveexf"
      }
    },
    {
      "cell_type": "markdown",
      "source": [
        "## **Extra**"
      ],
      "metadata": {
        "id": "5CYxzvNDfcwl"
      }
    },
    {
      "cell_type": "markdown",
      "source": [
        "**5. Obteniendo al menos un águila y un sol.**"
      ],
      "metadata": {
        "id": "RzvbrCVtfkQS"
      }
    },
    {
      "cell_type": "code",
      "source": [
        "# Conjunto donde seleccionamos todas las que cuenten con al menos un águila y al menos un sol\n",
        "pura_aguila={om for om in Omega if om.count(\"A\")>=1}\n",
        "pura_aguila"
      ],
      "metadata": {
        "colab": {
          "base_uri": "https://localhost:8080/"
        },
        "id": "gF-Ofe5Hecvt",
        "outputId": "24ee1c36-fecd-4f00-afa8-0f3b7631bf63"
      },
      "execution_count": null,
      "outputs": [
        {
          "output_type": "execute_result",
          "data": {
            "text/plain": [
              "{('A', 'A', 'A'),\n",
              " ('A', 'A', 'S'),\n",
              " ('A', 'S', 'A'),\n",
              " ('A', 'S', 'S'),\n",
              " ('S', 'A', 'A'),\n",
              " ('S', 'A', 'S'),\n",
              " ('S', 'S', 'A')}"
            ]
          },
          "metadata": {},
          "execution_count": 74
        }
      ]
    },
    {
      "cell_type": "code",
      "source": [
        "puro_sol={om for om in Omega if om.count(\"S\")>=1}\n",
        "puro_sol"
      ],
      "metadata": {
        "colab": {
          "base_uri": "https://localhost:8080/"
        },
        "id": "7a-oHCpAgUVH",
        "outputId": "cbf6452c-e323-4308-9fc9-fc27e4f9af97"
      },
      "execution_count": null,
      "outputs": [
        {
          "output_type": "execute_result",
          "data": {
            "text/plain": [
              "{('A', 'A', 'S'),\n",
              " ('A', 'S', 'A'),\n",
              " ('A', 'S', 'S'),\n",
              " ('S', 'A', 'A'),\n",
              " ('S', 'A', 'S'),\n",
              " ('S', 'S', 'A'),\n",
              " ('S', 'S', 'S')}"
            ]
          },
          "metadata": {},
          "execution_count": 75
        }
      ]
    },
    {
      "cell_type": "code",
      "source": [
        "inter = puro_sol.intersection(pura_aguila)\n",
        "inter"
      ],
      "metadata": {
        "colab": {
          "base_uri": "https://localhost:8080/"
        },
        "id": "jhd5nPO7goxw",
        "outputId": "c8075c5f-7bbc-4a16-ee08-c23376cdf183"
      },
      "execution_count": null,
      "outputs": [
        {
          "output_type": "execute_result",
          "data": {
            "text/plain": [
              "{('A', 'A', 'S'),\n",
              " ('A', 'S', 'A'),\n",
              " ('A', 'S', 'S'),\n",
              " ('S', 'A', 'A'),\n",
              " ('S', 'A', 'S'),\n",
              " ('S', 'S', 'A')}"
            ]
          },
          "metadata": {},
          "execution_count": 76
        }
      ]
    },
    {
      "cell_type": "code",
      "source": [
        "proba = len(inter)/len(Omega)\n",
        "proba"
      ],
      "metadata": {
        "colab": {
          "base_uri": "https://localhost:8080/"
        },
        "id": "jVpS2ynIhG0Z",
        "outputId": "d3147509-0069-47be-a83d-605e20e9fc5c"
      },
      "execution_count": null,
      "outputs": [
        {
          "output_type": "execute_result",
          "data": {
            "text/plain": [
              "0.75"
            ]
          },
          "metadata": {},
          "execution_count": 77
        }
      ]
    },
    {
      "cell_type": "code",
      "source": [
        "# Usando la función\n",
        "Proba = P(inter, Omega)\n",
        "Proba"
      ],
      "metadata": {
        "colab": {
          "base_uri": "https://localhost:8080/"
        },
        "id": "z5IbU3ifhStf",
        "outputId": "2f59ac1d-1d5b-43c2-9887-e73f5ae69f94"
      },
      "execution_count": null,
      "outputs": [
        {
          "output_type": "execute_result",
          "data": {
            "text/plain": [
              "Fraction(3, 4)"
            ]
          },
          "metadata": {},
          "execution_count": 78
        }
      ]
    },
    {
      "cell_type": "markdown",
      "source": [
        "Haciendo el conjunto directamente."
      ],
      "metadata": {
        "id": "U5GsauNlhglH"
      }
    },
    {
      "cell_type": "code",
      "source": [
        "conj = {om for om in Omega if om.count(\"A\")>=1 and om.count(\"S\")>=1}\n",
        "conj"
      ],
      "metadata": {
        "colab": {
          "base_uri": "https://localhost:8080/"
        },
        "id": "Pq6Zhz8jhj0F",
        "outputId": "d9a4a272-87ea-4297-9046-c7d6178861f3"
      },
      "execution_count": null,
      "outputs": [
        {
          "output_type": "execute_result",
          "data": {
            "text/plain": [
              "{('A', 'A', 'S'),\n",
              " ('A', 'S', 'A'),\n",
              " ('A', 'S', 'S'),\n",
              " ('S', 'A', 'A'),\n",
              " ('S', 'A', 'S'),\n",
              " ('S', 'S', 'A')}"
            ]
          },
          "metadata": {},
          "execution_count": 79
        }
      ]
    },
    {
      "cell_type": "code",
      "source": [
        "proba2 = len(conj) / len(Omega)\n",
        "proba2"
      ],
      "metadata": {
        "colab": {
          "base_uri": "https://localhost:8080/"
        },
        "id": "eyQ_7p7tjMbQ",
        "outputId": "a374cbfe-b7a5-4781-f0de-52d78594cea7"
      },
      "execution_count": null,
      "outputs": [
        {
          "output_type": "execute_result",
          "data": {
            "text/plain": [
              "0.75"
            ]
          },
          "metadata": {},
          "execution_count": 80
        }
      ]
    },
    {
      "cell_type": "code",
      "source": [
        "# Con la función\n",
        "Proba2 = P(inter, Omega)\n",
        "Proba2"
      ],
      "metadata": {
        "colab": {
          "base_uri": "https://localhost:8080/"
        },
        "id": "LPEIEIxZjMX2",
        "outputId": "c7fd8d1f-fe92-4575-ee96-4dd7507ac61c"
      },
      "execution_count": null,
      "outputs": [
        {
          "output_type": "execute_result",
          "data": {
            "text/plain": [
              "Fraction(3, 4)"
            ]
          },
          "metadata": {},
          "execution_count": 81
        }
      ]
    }
  ]
}
