{
  "nbformat": 4,
  "nbformat_minor": 0,
  "metadata": {
    "colab": {
      "provenance": [],
      "authorship_tag": "ABX9TyPDroWPepD/dYrzvSyWoLAc",
      "include_colab_link": true
    },
    "kernelspec": {
      "name": "python3",
      "display_name": "Python 3"
    },
    "language_info": {
      "name": "python"
    }
  },
  "cells": [
    {
      "cell_type": "markdown",
      "metadata": {
        "id": "view-in-github",
        "colab_type": "text"
      },
      "source": [
        "<a href=\"https://colab.research.google.com/github/cesarlimca/Diplomado-TE-y-MD/blob/main/Modulo4_Proyecto6-2.ipynb\" target=\"_parent\"><img src=\"https://colab.research.google.com/assets/colab-badge.svg\" alt=\"Open In Colab\"/></a>"
      ]
    },
    {
      "cell_type": "markdown",
      "source": [
        "# **PROYECTO 6 - Ejercicio 2**\n",
        "César Adrián Limones Carro"
      ],
      "metadata": {
        "id": "H8zA562xdhhP"
      }
    },
    {
      "cell_type": "markdown",
      "source": [
        "## Librerías y lectura de datos para todo el ejercicio"
      ],
      "metadata": {
        "id": "Qi3JM0tzdtsN"
      }
    },
    {
      "cell_type": "code",
      "execution_count": 23,
      "metadata": {
        "id": "FyWgs6tJXMeC"
      },
      "outputs": [],
      "source": [
        "import pandas as pd\n",
        "import numpy as np\n",
        "import matplotlib.pyplot as plt\n",
        "import seaborn as sns\n",
        "from sklearn.metrics import confusion_matrix\n",
        "from sklearn.metrics import precision_score, recall_score, accuracy_score\n",
        "from sklearn.metrics import roc_curve, auc"
      ]
    },
    {
      "cell_type": "code",
      "source": [
        "df = pd.read_excel('ejercicio2.xlsx')\n",
        "df"
      ],
      "metadata": {
        "colab": {
          "base_uri": "https://localhost:8080/",
          "height": 676
        },
        "id": "KRhGf7PfXqtu",
        "outputId": "2189e58b-784d-4a9a-cd29-edae57af6cab"
      },
      "execution_count": 24,
      "outputs": [
        {
          "output_type": "execute_result",
          "data": {
            "text/plain": [
              "    ID  Clase  Predicción\n",
              "0    1      1           1\n",
              "1    2      1           1\n",
              "2    3      1           1\n",
              "3    4      1           0\n",
              "4    5      1           1\n",
              "5    6      1           0\n",
              "6    7      1           1\n",
              "7    8      1           0\n",
              "8    9      1           0\n",
              "9   10      1           1\n",
              "10  11      1           1\n",
              "11  12      0           0\n",
              "12  13      0           0\n",
              "13  14      0           0\n",
              "14  15      0           1\n",
              "15  16      0           1\n",
              "16  17      0           1\n",
              "17  18      0           0\n",
              "18  19      0           1\n",
              "19  20      0           0"
            ],
            "text/html": [
              "\n",
              "  <div id=\"df-80b88e94-4202-4660-b178-a17d6e432c6f\" class=\"colab-df-container\">\n",
              "    <div>\n",
              "<style scoped>\n",
              "    .dataframe tbody tr th:only-of-type {\n",
              "        vertical-align: middle;\n",
              "    }\n",
              "\n",
              "    .dataframe tbody tr th {\n",
              "        vertical-align: top;\n",
              "    }\n",
              "\n",
              "    .dataframe thead th {\n",
              "        text-align: right;\n",
              "    }\n",
              "</style>\n",
              "<table border=\"1\" class=\"dataframe\">\n",
              "  <thead>\n",
              "    <tr style=\"text-align: right;\">\n",
              "      <th></th>\n",
              "      <th>ID</th>\n",
              "      <th>Clase</th>\n",
              "      <th>Predicción</th>\n",
              "    </tr>\n",
              "  </thead>\n",
              "  <tbody>\n",
              "    <tr>\n",
              "      <th>0</th>\n",
              "      <td>1</td>\n",
              "      <td>1</td>\n",
              "      <td>1</td>\n",
              "    </tr>\n",
              "    <tr>\n",
              "      <th>1</th>\n",
              "      <td>2</td>\n",
              "      <td>1</td>\n",
              "      <td>1</td>\n",
              "    </tr>\n",
              "    <tr>\n",
              "      <th>2</th>\n",
              "      <td>3</td>\n",
              "      <td>1</td>\n",
              "      <td>1</td>\n",
              "    </tr>\n",
              "    <tr>\n",
              "      <th>3</th>\n",
              "      <td>4</td>\n",
              "      <td>1</td>\n",
              "      <td>0</td>\n",
              "    </tr>\n",
              "    <tr>\n",
              "      <th>4</th>\n",
              "      <td>5</td>\n",
              "      <td>1</td>\n",
              "      <td>1</td>\n",
              "    </tr>\n",
              "    <tr>\n",
              "      <th>5</th>\n",
              "      <td>6</td>\n",
              "      <td>1</td>\n",
              "      <td>0</td>\n",
              "    </tr>\n",
              "    <tr>\n",
              "      <th>6</th>\n",
              "      <td>7</td>\n",
              "      <td>1</td>\n",
              "      <td>1</td>\n",
              "    </tr>\n",
              "    <tr>\n",
              "      <th>7</th>\n",
              "      <td>8</td>\n",
              "      <td>1</td>\n",
              "      <td>0</td>\n",
              "    </tr>\n",
              "    <tr>\n",
              "      <th>8</th>\n",
              "      <td>9</td>\n",
              "      <td>1</td>\n",
              "      <td>0</td>\n",
              "    </tr>\n",
              "    <tr>\n",
              "      <th>9</th>\n",
              "      <td>10</td>\n",
              "      <td>1</td>\n",
              "      <td>1</td>\n",
              "    </tr>\n",
              "    <tr>\n",
              "      <th>10</th>\n",
              "      <td>11</td>\n",
              "      <td>1</td>\n",
              "      <td>1</td>\n",
              "    </tr>\n",
              "    <tr>\n",
              "      <th>11</th>\n",
              "      <td>12</td>\n",
              "      <td>0</td>\n",
              "      <td>0</td>\n",
              "    </tr>\n",
              "    <tr>\n",
              "      <th>12</th>\n",
              "      <td>13</td>\n",
              "      <td>0</td>\n",
              "      <td>0</td>\n",
              "    </tr>\n",
              "    <tr>\n",
              "      <th>13</th>\n",
              "      <td>14</td>\n",
              "      <td>0</td>\n",
              "      <td>0</td>\n",
              "    </tr>\n",
              "    <tr>\n",
              "      <th>14</th>\n",
              "      <td>15</td>\n",
              "      <td>0</td>\n",
              "      <td>1</td>\n",
              "    </tr>\n",
              "    <tr>\n",
              "      <th>15</th>\n",
              "      <td>16</td>\n",
              "      <td>0</td>\n",
              "      <td>1</td>\n",
              "    </tr>\n",
              "    <tr>\n",
              "      <th>16</th>\n",
              "      <td>17</td>\n",
              "      <td>0</td>\n",
              "      <td>1</td>\n",
              "    </tr>\n",
              "    <tr>\n",
              "      <th>17</th>\n",
              "      <td>18</td>\n",
              "      <td>0</td>\n",
              "      <td>0</td>\n",
              "    </tr>\n",
              "    <tr>\n",
              "      <th>18</th>\n",
              "      <td>19</td>\n",
              "      <td>0</td>\n",
              "      <td>1</td>\n",
              "    </tr>\n",
              "    <tr>\n",
              "      <th>19</th>\n",
              "      <td>20</td>\n",
              "      <td>0</td>\n",
              "      <td>0</td>\n",
              "    </tr>\n",
              "  </tbody>\n",
              "</table>\n",
              "</div>\n",
              "    <div class=\"colab-df-buttons\">\n",
              "\n",
              "  <div class=\"colab-df-container\">\n",
              "    <button class=\"colab-df-convert\" onclick=\"convertToInteractive('df-80b88e94-4202-4660-b178-a17d6e432c6f')\"\n",
              "            title=\"Convert this dataframe to an interactive table.\"\n",
              "            style=\"display:none;\">\n",
              "\n",
              "  <svg xmlns=\"http://www.w3.org/2000/svg\" height=\"24px\" viewBox=\"0 -960 960 960\">\n",
              "    <path d=\"M120-120v-720h720v720H120Zm60-500h600v-160H180v160Zm220 220h160v-160H400v160Zm0 220h160v-160H400v160ZM180-400h160v-160H180v160Zm440 0h160v-160H620v160ZM180-180h160v-160H180v160Zm440 0h160v-160H620v160Z\"/>\n",
              "  </svg>\n",
              "    </button>\n",
              "\n",
              "  <style>\n",
              "    .colab-df-container {\n",
              "      display:flex;\n",
              "      gap: 12px;\n",
              "    }\n",
              "\n",
              "    .colab-df-convert {\n",
              "      background-color: #E8F0FE;\n",
              "      border: none;\n",
              "      border-radius: 50%;\n",
              "      cursor: pointer;\n",
              "      display: none;\n",
              "      fill: #1967D2;\n",
              "      height: 32px;\n",
              "      padding: 0 0 0 0;\n",
              "      width: 32px;\n",
              "    }\n",
              "\n",
              "    .colab-df-convert:hover {\n",
              "      background-color: #E2EBFA;\n",
              "      box-shadow: 0px 1px 2px rgba(60, 64, 67, 0.3), 0px 1px 3px 1px rgba(60, 64, 67, 0.15);\n",
              "      fill: #174EA6;\n",
              "    }\n",
              "\n",
              "    .colab-df-buttons div {\n",
              "      margin-bottom: 4px;\n",
              "    }\n",
              "\n",
              "    [theme=dark] .colab-df-convert {\n",
              "      background-color: #3B4455;\n",
              "      fill: #D2E3FC;\n",
              "    }\n",
              "\n",
              "    [theme=dark] .colab-df-convert:hover {\n",
              "      background-color: #434B5C;\n",
              "      box-shadow: 0px 1px 3px 1px rgba(0, 0, 0, 0.15);\n",
              "      filter: drop-shadow(0px 1px 2px rgba(0, 0, 0, 0.3));\n",
              "      fill: #FFFFFF;\n",
              "    }\n",
              "  </style>\n",
              "\n",
              "    <script>\n",
              "      const buttonEl =\n",
              "        document.querySelector('#df-80b88e94-4202-4660-b178-a17d6e432c6f button.colab-df-convert');\n",
              "      buttonEl.style.display =\n",
              "        google.colab.kernel.accessAllowed ? 'block' : 'none';\n",
              "\n",
              "      async function convertToInteractive(key) {\n",
              "        const element = document.querySelector('#df-80b88e94-4202-4660-b178-a17d6e432c6f');\n",
              "        const dataTable =\n",
              "          await google.colab.kernel.invokeFunction('convertToInteractive',\n",
              "                                                    [key], {});\n",
              "        if (!dataTable) return;\n",
              "\n",
              "        const docLinkHtml = 'Like what you see? Visit the ' +\n",
              "          '<a target=\"_blank\" href=https://colab.research.google.com/notebooks/data_table.ipynb>data table notebook</a>'\n",
              "          + ' to learn more about interactive tables.';\n",
              "        element.innerHTML = '';\n",
              "        dataTable['output_type'] = 'display_data';\n",
              "        await google.colab.output.renderOutput(dataTable, element);\n",
              "        const docLink = document.createElement('div');\n",
              "        docLink.innerHTML = docLinkHtml;\n",
              "        element.appendChild(docLink);\n",
              "      }\n",
              "    </script>\n",
              "  </div>\n",
              "\n",
              "\n",
              "<div id=\"df-e623296c-9e76-4063-9cc8-8bcdb717db28\">\n",
              "  <button class=\"colab-df-quickchart\" onclick=\"quickchart('df-e623296c-9e76-4063-9cc8-8bcdb717db28')\"\n",
              "            title=\"Suggest charts\"\n",
              "            style=\"display:none;\">\n",
              "\n",
              "<svg xmlns=\"http://www.w3.org/2000/svg\" height=\"24px\"viewBox=\"0 0 24 24\"\n",
              "     width=\"24px\">\n",
              "    <g>\n",
              "        <path d=\"M19 3H5c-1.1 0-2 .9-2 2v14c0 1.1.9 2 2 2h14c1.1 0 2-.9 2-2V5c0-1.1-.9-2-2-2zM9 17H7v-7h2v7zm4 0h-2V7h2v10zm4 0h-2v-4h2v4z\"/>\n",
              "    </g>\n",
              "</svg>\n",
              "  </button>\n",
              "\n",
              "<style>\n",
              "  .colab-df-quickchart {\n",
              "      --bg-color: #E8F0FE;\n",
              "      --fill-color: #1967D2;\n",
              "      --hover-bg-color: #E2EBFA;\n",
              "      --hover-fill-color: #174EA6;\n",
              "      --disabled-fill-color: #AAA;\n",
              "      --disabled-bg-color: #DDD;\n",
              "  }\n",
              "\n",
              "  [theme=dark] .colab-df-quickchart {\n",
              "      --bg-color: #3B4455;\n",
              "      --fill-color: #D2E3FC;\n",
              "      --hover-bg-color: #434B5C;\n",
              "      --hover-fill-color: #FFFFFF;\n",
              "      --disabled-bg-color: #3B4455;\n",
              "      --disabled-fill-color: #666;\n",
              "  }\n",
              "\n",
              "  .colab-df-quickchart {\n",
              "    background-color: var(--bg-color);\n",
              "    border: none;\n",
              "    border-radius: 50%;\n",
              "    cursor: pointer;\n",
              "    display: none;\n",
              "    fill: var(--fill-color);\n",
              "    height: 32px;\n",
              "    padding: 0;\n",
              "    width: 32px;\n",
              "  }\n",
              "\n",
              "  .colab-df-quickchart:hover {\n",
              "    background-color: var(--hover-bg-color);\n",
              "    box-shadow: 0 1px 2px rgba(60, 64, 67, 0.3), 0 1px 3px 1px rgba(60, 64, 67, 0.15);\n",
              "    fill: var(--button-hover-fill-color);\n",
              "  }\n",
              "\n",
              "  .colab-df-quickchart-complete:disabled,\n",
              "  .colab-df-quickchart-complete:disabled:hover {\n",
              "    background-color: var(--disabled-bg-color);\n",
              "    fill: var(--disabled-fill-color);\n",
              "    box-shadow: none;\n",
              "  }\n",
              "\n",
              "  .colab-df-spinner {\n",
              "    border: 2px solid var(--fill-color);\n",
              "    border-color: transparent;\n",
              "    border-bottom-color: var(--fill-color);\n",
              "    animation:\n",
              "      spin 1s steps(1) infinite;\n",
              "  }\n",
              "\n",
              "  @keyframes spin {\n",
              "    0% {\n",
              "      border-color: transparent;\n",
              "      border-bottom-color: var(--fill-color);\n",
              "      border-left-color: var(--fill-color);\n",
              "    }\n",
              "    20% {\n",
              "      border-color: transparent;\n",
              "      border-left-color: var(--fill-color);\n",
              "      border-top-color: var(--fill-color);\n",
              "    }\n",
              "    30% {\n",
              "      border-color: transparent;\n",
              "      border-left-color: var(--fill-color);\n",
              "      border-top-color: var(--fill-color);\n",
              "      border-right-color: var(--fill-color);\n",
              "    }\n",
              "    40% {\n",
              "      border-color: transparent;\n",
              "      border-right-color: var(--fill-color);\n",
              "      border-top-color: var(--fill-color);\n",
              "    }\n",
              "    60% {\n",
              "      border-color: transparent;\n",
              "      border-right-color: var(--fill-color);\n",
              "    }\n",
              "    80% {\n",
              "      border-color: transparent;\n",
              "      border-right-color: var(--fill-color);\n",
              "      border-bottom-color: var(--fill-color);\n",
              "    }\n",
              "    90% {\n",
              "      border-color: transparent;\n",
              "      border-bottom-color: var(--fill-color);\n",
              "    }\n",
              "  }\n",
              "</style>\n",
              "\n",
              "  <script>\n",
              "    async function quickchart(key) {\n",
              "      const quickchartButtonEl =\n",
              "        document.querySelector('#' + key + ' button');\n",
              "      quickchartButtonEl.disabled = true;  // To prevent multiple clicks.\n",
              "      quickchartButtonEl.classList.add('colab-df-spinner');\n",
              "      try {\n",
              "        const charts = await google.colab.kernel.invokeFunction(\n",
              "            'suggestCharts', [key], {});\n",
              "      } catch (error) {\n",
              "        console.error('Error during call to suggestCharts:', error);\n",
              "      }\n",
              "      quickchartButtonEl.classList.remove('colab-df-spinner');\n",
              "      quickchartButtonEl.classList.add('colab-df-quickchart-complete');\n",
              "    }\n",
              "    (() => {\n",
              "      let quickchartButtonEl =\n",
              "        document.querySelector('#df-e623296c-9e76-4063-9cc8-8bcdb717db28 button');\n",
              "      quickchartButtonEl.style.display =\n",
              "        google.colab.kernel.accessAllowed ? 'block' : 'none';\n",
              "    })();\n",
              "  </script>\n",
              "</div>\n",
              "\n",
              "  <div id=\"id_b2c2d49d-7445-4e2e-9ec2-b6ffc4766c28\">\n",
              "    <style>\n",
              "      .colab-df-generate {\n",
              "        background-color: #E8F0FE;\n",
              "        border: none;\n",
              "        border-radius: 50%;\n",
              "        cursor: pointer;\n",
              "        display: none;\n",
              "        fill: #1967D2;\n",
              "        height: 32px;\n",
              "        padding: 0 0 0 0;\n",
              "        width: 32px;\n",
              "      }\n",
              "\n",
              "      .colab-df-generate:hover {\n",
              "        background-color: #E2EBFA;\n",
              "        box-shadow: 0px 1px 2px rgba(60, 64, 67, 0.3), 0px 1px 3px 1px rgba(60, 64, 67, 0.15);\n",
              "        fill: #174EA6;\n",
              "      }\n",
              "\n",
              "      [theme=dark] .colab-df-generate {\n",
              "        background-color: #3B4455;\n",
              "        fill: #D2E3FC;\n",
              "      }\n",
              "\n",
              "      [theme=dark] .colab-df-generate:hover {\n",
              "        background-color: #434B5C;\n",
              "        box-shadow: 0px 1px 3px 1px rgba(0, 0, 0, 0.15);\n",
              "        filter: drop-shadow(0px 1px 2px rgba(0, 0, 0, 0.3));\n",
              "        fill: #FFFFFF;\n",
              "      }\n",
              "    </style>\n",
              "    <button class=\"colab-df-generate\" onclick=\"generateWithVariable('df')\"\n",
              "            title=\"Generate code using this dataframe.\"\n",
              "            style=\"display:none;\">\n",
              "\n",
              "  <svg xmlns=\"http://www.w3.org/2000/svg\" height=\"24px\"viewBox=\"0 0 24 24\"\n",
              "       width=\"24px\">\n",
              "    <path d=\"M7,19H8.4L18.45,9,17,7.55,7,17.6ZM5,21V16.75L18.45,3.32a2,2,0,0,1,2.83,0l1.4,1.43a1.91,1.91,0,0,1,.58,1.4,1.91,1.91,0,0,1-.58,1.4L9.25,21ZM18.45,9,17,7.55Zm-12,3A5.31,5.31,0,0,0,4.9,8.1,5.31,5.31,0,0,0,1,6.5,5.31,5.31,0,0,0,4.9,4.9,5.31,5.31,0,0,0,6.5,1,5.31,5.31,0,0,0,8.1,4.9,5.31,5.31,0,0,0,12,6.5,5.46,5.46,0,0,0,6.5,12Z\"/>\n",
              "  </svg>\n",
              "    </button>\n",
              "    <script>\n",
              "      (() => {\n",
              "      const buttonEl =\n",
              "        document.querySelector('#id_b2c2d49d-7445-4e2e-9ec2-b6ffc4766c28 button.colab-df-generate');\n",
              "      buttonEl.style.display =\n",
              "        google.colab.kernel.accessAllowed ? 'block' : 'none';\n",
              "\n",
              "      buttonEl.onclick = () => {\n",
              "        google.colab.notebook.generateWithVariable('df');\n",
              "      }\n",
              "      })();\n",
              "    </script>\n",
              "  </div>\n",
              "\n",
              "    </div>\n",
              "  </div>\n"
            ],
            "application/vnd.google.colaboratory.intrinsic+json": {
              "type": "dataframe",
              "variable_name": "df",
              "summary": "{\n  \"name\": \"df\",\n  \"rows\": 20,\n  \"fields\": [\n    {\n      \"column\": \"ID\",\n      \"properties\": {\n        \"dtype\": \"number\",\n        \"std\": 5,\n        \"min\": 1,\n        \"max\": 20,\n        \"num_unique_values\": 20,\n        \"samples\": [\n          1,\n          18,\n          16\n        ],\n        \"semantic_type\": \"\",\n        \"description\": \"\"\n      }\n    },\n    {\n      \"column\": \"Clase\",\n      \"properties\": {\n        \"dtype\": \"number\",\n        \"std\": 0,\n        \"min\": 0,\n        \"max\": 1,\n        \"num_unique_values\": 2,\n        \"samples\": [\n          0,\n          1\n        ],\n        \"semantic_type\": \"\",\n        \"description\": \"\"\n      }\n    },\n    {\n      \"column\": \"Predicci\\u00f3n\",\n      \"properties\": {\n        \"dtype\": \"number\",\n        \"std\": 0,\n        \"min\": 0,\n        \"max\": 1,\n        \"num_unique_values\": 2,\n        \"samples\": [\n          0,\n          1\n        ],\n        \"semantic_type\": \"\",\n        \"description\": \"\"\n      }\n    }\n  ]\n}"
            }
          },
          "metadata": {},
          "execution_count": 24
        }
      ]
    },
    {
      "cell_type": "markdown",
      "source": [
        "## **a) Encontrar la matriz de confusión**"
      ],
      "metadata": {
        "id": "ekdrFFPdd2Oe"
      }
    },
    {
      "cell_type": "markdown",
      "source": [
        "La matriz de confusión es una tabla que describe el rendimiento de un modelo de clasificación. Tiene la siguiente estructura:\n",
        "\n",
        "* **TP** (True Positive): Predicciones correctas de la clase positiva (1).\n",
        "* **TN** (True Negative): Predicciones correctas de la clase negativa (0).\n",
        "* **FP** (False Positive): Predicciones incorrectas donde se predice positiva (1) cuando es negativa (0).\n",
        "* **FN** (False Negative): Predicciones incorrectas donde se predice negativa (0) cuando es positiva (1)."
      ],
      "metadata": {
        "id": "9ZgHObt7d9Sr"
      }
    },
    {
      "cell_type": "code",
      "source": [
        "clase = df['Clase']\n",
        "prediccion = df['Predicción']\n",
        "\n",
        "cm = confusion_matrix(clase, prediccion)\n",
        "cm"
      ],
      "metadata": {
        "colab": {
          "base_uri": "https://localhost:8080/"
        },
        "id": "W8QxMUSqXyut",
        "outputId": "99124b96-adf5-46ae-f645-b25538a057ab"
      },
      "execution_count": 25,
      "outputs": [
        {
          "output_type": "execute_result",
          "data": {
            "text/plain": [
              "array([[5, 4],\n",
              "       [4, 7]])"
            ]
          },
          "metadata": {},
          "execution_count": 25
        }
      ]
    },
    {
      "cell_type": "markdown",
      "source": [
        "* 5 TN (True Negatives): El modelo predijo correctamente la clase 0.\n",
        "* 7 TP (True Positives): El modelo predijo correctamente la clase 1.\n",
        "* 4 FP (False Positives): El modelo predijo 1 cuando en realidad era 0.\n",
        "* 4 FN (False Negatives): El modelo predijo 0 cuando en realidad era 1.\n",
        "\n",
        "El modelo tiene problemas en distinguir correctamente entre clases positivas y negativas. El hecho de que haya 4 falsos positivos y 4 falsos negativos muestra que las predicciones incorrectas están distribuidas en ambas direcciones.\n",
        "\n",
        "Una alta cantidad de falsos negativos es preocupante en escenarios donde perder un positivo (falla en detectar la clase 1) es costoso. Por ejemplo, en diagnósticos médicos, esto implicaría que la enfermedad no se detecta correctamente."
      ],
      "metadata": {
        "id": "wSqunI9iix5S"
      }
    },
    {
      "cell_type": "markdown",
      "source": [
        "## **b) Encontrar la precisión (presición de la clase positive), sensitivity, specificity y accuracy (precisión global).**"
      ],
      "metadata": {
        "id": "G3D_n3vtey0B"
      }
    },
    {
      "cell_type": "markdown",
      "source": [
        "* Precisión (Precision): Qué tan precisas son las predicciones positivas:\n",
        "\n",
        "$$\n",
        "Precision = \\frac{TP}{TP + FP}\n",
        "$$\n",
        "\n",
        "* Sensibilidad (Recall o TPR): Qué tan bien se predicen los verdaderos positivos:\n",
        "\n",
        "$$\n",
        "Sensibilidad = \\frac{TP}{TP + FN}\n",
        "$$\n",
        "\n",
        "* Especificidad (Specificity o TNR): Qué tan bien se predicen los verdaderos negativos.\n",
        "$$\n",
        "Especificidad = \\frac{TN}{TN+FP}\n",
        "$$\n",
        "\n",
        "* Exactitud (Accuracy): Proporción de predicciones correctas. Se calcula como:\n",
        "$$\n",
        "Exactitud = \\frac{TP+TN}{TP+TN+FP+FN}\n",
        "$$"
      ],
      "metadata": {
        "id": "6ahbLHwvfhlC"
      }
    },
    {
      "cell_type": "code",
      "source": [
        "# Nota: .2f es para poner dos decimales en los números\n",
        "# Precision\n",
        "precision = precision_score(clase, prediccion)\n",
        "print(f\"Precision: {precision:.2f}\")\n",
        "\n",
        "# Sensibilidad (TPR)\n",
        "sensibilidad = recall_score(clase, prediccion)\n",
        "print(f\"Sensibilidad (Recall o TPR): {sensibilidad:.2f}\")\n",
        "\n",
        "# Exactitud (Accuracy)\n",
        "exactitud = accuracy_score(clase, prediccion)\n",
        "print(f\"Exactitud (Accuracy): {exactitud:.2f}\")\n",
        "\n",
        "# Especificidad (no se puede calcular con función, así que se obtienen los datos independientes desde la matriz de confusión)\n",
        "TN, FP, FN, TP = cm.ravel()\n",
        "especificidad = TN / (TN + FP)\n",
        "print(f\"Especificidad: {especificidad:.2f}\")"
      ],
      "metadata": {
        "colab": {
          "base_uri": "https://localhost:8080/"
        },
        "id": "fjKS2rKcb-iE",
        "outputId": "74f5a876-08e0-491a-90af-fa088e257e0f"
      },
      "execution_count": 26,
      "outputs": [
        {
          "output_type": "stream",
          "name": "stdout",
          "text": [
            "Precision: 0.64\n",
            "Sensibilidad (Recall o TPR): 0.64\n",
            "Exactitud (Accuracy): 0.60\n",
            "Especificidad: 0.56\n"
          ]
        }
      ]
    },
    {
      "cell_type": "markdown",
      "source": [
        "### Interpretaciones:"
      ],
      "metadata": {
        "id": "kWwceTDzkEzB"
      }
    },
    {
      "cell_type": "markdown",
      "source": [
        "* **Precisión (Precision): 0.64**\n",
        "\n",
        "El 64% de las veces que el modelo predijo la clase positiva (1), lo hizo correctamente.\n",
        "\n",
        "Un valor bajo de precisión implica que el modelo está cometiendo muchos falsos positivos (predice 1 cuando no lo es). Esto puede ser un problema si los falsos positivos tienen consecuencias graves (ejemplo: predecir fraude en un banco).\n",
        "\n",
        "* **Sensibilidad (Recall o TPR): 0.64**\n",
        "\n",
        "El 64% de las veces que la clase era positiva (1), el modelo la detectó correctamente.\n",
        "\n",
        "La sensibilidad refleja qué tan bien el modelo está capturando todos los casos positivos. El 64% indica que hay un 36% de falsos negativos, lo que puede ser preocupante si es más costoso perder positivos que hacer falsos positivos.\n",
        "\n",
        "* **Especificidad (TNR): 0.56**\n",
        "\n",
        "El 56% de las veces que la clase era negativa (0), el modelo la predijo correctamente.\n",
        "\n",
        "La especificidad baja sugiere que el modelo comete muchos falsos positivos. En un sistema de seguridad, por ejemplo, esto significaría que está generando muchas alarmas falsas.\n",
        "\n",
        "* **Exactitud (Accuracy): 0.60**\n",
        "\n",
        "El modelo acertó en el 60% de todas sus predicciones, tanto para clase 1 como para clase 0.\n",
        "\n",
        "La exactitud es una medida global del rendimiento, pero puede ser engañosa cuando hay un desbalance de clases (si hubiera muchas más clases 0 que clases 1, podríamos obtener una buena exactitud simplemente prediciendo siempre 0). En este caso, con clases balanceadas, un 60% indica un rendimiento moderado."
      ],
      "metadata": {
        "id": "K7On0plGkBrt"
      }
    },
    {
      "cell_type": "markdown",
      "source": [
        "## **c) Encontrar la TPR y FPR**"
      ],
      "metadata": {
        "id": "8pTw-10CfFFX"
      }
    },
    {
      "cell_type": "code",
      "source": [
        "# Ya se encontró el TPR\n",
        "TPR = TP / (TP + FN)\n",
        "print(f\"TPR: {TPR:.2f}\")"
      ],
      "metadata": {
        "colab": {
          "base_uri": "https://localhost:8080/"
        },
        "id": "tRxnSHMkhQ5s",
        "outputId": "78086e15-2d31-4059-ecc6-617753012a4e"
      },
      "execution_count": 27,
      "outputs": [
        {
          "output_type": "stream",
          "name": "stdout",
          "text": [
            "TPR: 0.64\n"
          ]
        }
      ]
    },
    {
      "cell_type": "code",
      "source": [
        "FPR = FP / (FP + TN)\n",
        "print(f\"FPR: {FPR:.2f}\")"
      ],
      "metadata": {
        "colab": {
          "base_uri": "https://localhost:8080/"
        },
        "id": "Ac3wfgg-cYZQ",
        "outputId": "5d1301b4-30ec-44b1-deb9-958a9454561f"
      },
      "execution_count": 28,
      "outputs": [
        {
          "output_type": "stream",
          "name": "stdout",
          "text": [
            "FPR: 0.44\n"
          ]
        }
      ]
    },
    {
      "cell_type": "markdown",
      "source": [
        "### Interpretación:"
      ],
      "metadata": {
        "id": "eWch17MHk9b7"
      }
    },
    {
      "cell_type": "markdown",
      "source": [
        "* **TPR (True Positive Rate): 0.64**\n",
        "\n",
        "Es lo mismo que la sensibilidad, es decir, el 64% de los positivos reales fueron detectados correctamente.\n",
        "\n",
        "\n",
        "Un TPR moderado significa que el modelo está perdiendo un 36% de los positivos reales. En aplicaciones donde detectar correctamente los positivos es crucial, este valor debe ser lo más cercano a 1 posible.\n",
        "\n",
        "* **FPR (False Positive Rate): 0.44**\n",
        "\n",
        "El 44% de las veces que la clase era negativa (0), el modelo la predijo incorrectamente como positiva.\n",
        "\n",
        "\n",
        "Este es un valor bastante alto y sugiere que el modelo comete muchos errores al identificar negativos. En casos donde los falsos positivos son costosos (como fraude, o detección de spam), esto debe ser minimizado."
      ],
      "metadata": {
        "id": "Unv4afPAlAJe"
      }
    },
    {
      "cell_type": "markdown",
      "source": [
        "## **c) Ubicar el clasificador en un espacio ROC**"
      ],
      "metadata": {
        "id": "mbSKjeyefLP0"
      }
    },
    {
      "cell_type": "markdown",
      "source": [
        "**ROC (Receiver Operating Characteristic)**:\n",
        "Es una curva que compara el TPR contra el FPR. Se utiliza para evaluar el rendimiento de un modelo de clasificación en diferentes umbrales de decisión. El área bajo la curva ROC (AUC) es una métrica clave para medir la capacidad de un modelo para distinguir entre clases.\n",
        "\n",
        "Si el AUC fuera 0.50, el modelo no sería mejor que adivinar al azar. Un valor cercano a 1 indica un buen rendimiento."
      ],
      "metadata": {
        "id": "lRFgZTfRiXSJ"
      }
    },
    {
      "cell_type": "code",
      "source": [
        "# Obtener valores para ROC\n",
        "fpr, tpr, _ = roc_curve(clase, prediccion)\n",
        "roc_auc = auc(fpr, tpr)\n",
        "\n",
        "# Graficar ROC\n",
        "plt.figure()\n",
        "plt.plot(fpr, tpr, color='darkorange', lw=2, label=f'ROC curve (area = {roc_auc:.2f})')\n",
        "plt.plot([0, 1], [0, 1], color='navy', lw=2, linestyle='--')\n",
        "plt.xlim([0.0, 1.0])\n",
        "plt.ylim([0.0, 1.05])\n",
        "plt.xlabel('False Positive Rate (FPR)')\n",
        "plt.ylabel('True Positive Rate (TPR)')\n",
        "plt.title('Curva ROC')\n",
        "plt.legend(loc=\"lower right\")\n",
        "plt.grid(True)\n",
        "plt.show()"
      ],
      "metadata": {
        "colab": {
          "base_uri": "https://localhost:8080/",
          "height": 472
        },
        "id": "N03Q8NE-cb0K",
        "outputId": "61fa032c-fe39-4a93-8d58-b2756c7a86be"
      },
      "execution_count": 29,
      "outputs": [
        {
          "output_type": "display_data",
          "data": {
            "text/plain": [
              "<Figure size 640x480 with 1 Axes>"
            ],
            "image/png": "[encoded data removed]"
          },
          "metadata": {}
        }
      ]
    },
    {
      "cell_type": "markdown",
      "source": [
        "Un clasificador perfecto tendría una curva ROC que pasa por el punto (0,1), lo que significa un TPR del 100% y un FPR del 0%. El valor AUC oscila entre 0.5 (clasificación aleatoria) y 1.0 (clasificación perfecta).\n",
        "\n",
        "El área bajo la curva (AUC) es 0.60, lo que indica un desempeño moderado del clasificador."
      ],
      "metadata": {
        "id": "TSw7yA3OimG3"
      }
    },
    {
      "cell_type": "markdown",
      "source": [
        "## **Conclusión:**"
      ],
      "metadata": {
        "id": "YPspf5k8loQA"
      }
    },
    {
      "cell_type": "markdown",
      "source": [
        "En general, el modelo tiene un rendimiento moderado. Si el costo de cometer falsos positivos y falsos negativos es bajo, entonces puede ser aceptable. Sin embargo, si las consecuencias de estos errores son serias en cuanto a sus propositos de actividad (ej. en diagnóstico médico o seguridad), el modelo no es confiable."
      ],
      "metadata": {
        "id": "qokQKKJJlrdC"
      }
    },
    {
      "cell_type": "markdown",
      "source": [
        "https://github.com/cesarlimca/Diplomado-TE-y-MD/blob/main/Modulo4_Proyecto6-2.ipynb"
      ],
      "metadata": {
        "id": "3mtaddzdmunx"
      }
    }
  ]
}